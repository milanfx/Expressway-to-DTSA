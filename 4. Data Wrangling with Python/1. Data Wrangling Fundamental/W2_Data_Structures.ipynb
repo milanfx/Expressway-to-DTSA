{
  "nbformat": 4,
  "nbformat_minor": 0,
  "metadata": {
    "colab": {
      "provenance": [],
      "machine_shape": "hm",
      "authorship_tag": "ABX9TyNlSs4D27C26Fa3hPdgBEiv",
      "include_colab_link": true
    },
    "kernelspec": {
      "name": "python3",
      "display_name": "Python 3"
    },
    "language_info": {
      "name": "python"
    }
  },
  "cells": [
    {
      "cell_type": "markdown",
      "metadata": {
        "id": "view-in-github",
        "colab_type": "text"
      },
      "source": [
        "<a href=\"https://colab.research.google.com/github/milanfx/Expressway-to-DTSA/blob/main/4.%20Data%20Wrangling%20with%20Python/1.%20Data%20Wrangling%20Fundamental/W2_Data_Structures.ipynb\" target=\"_parent\"><img src=\"https://colab.research.google.com/assets/colab-badge.svg\" alt=\"Open In Colab\"/></a>"
      ]
    },
    {
      "cell_type": "markdown",
      "source": [
        "<table width=\"850\">\n",
        "<td bgcolor=\"#ba2f2a\"><font color=\"white\" size=\"8\"><b>\n",
        "W2 Data Structures\n",
        "</b></font></td></table>"
      ],
      "metadata": {
        "id": "AaW2h3ZuwlvL"
      }
    },
    {
      "cell_type": "markdown",
      "source": [
        "<table width=\"850\">\n",
        "<td bgcolor=\"#d5695d\"><font color=\"white\" size=\"6\"><b>\n",
        "1. List\n",
        "</b></font></td></table>\n"
      ],
      "metadata": {
        "id": "Y6cWGMF_Ns2o"
      }
    },
    {
      "cell_type": "markdown",
      "source": [
        "<table width=\"850\">\n",
        "<td bgcolor=\"#f8f2e4\"><font color=\"black\" size=\"4\"><b>\n",
        "1.1 Creation and Access\n",
        "</b><br><br>\n",
        "Task:\n",
        "</font></td></table>"
      ],
      "metadata": {
        "id": "PbSvx5mQNs2q"
      }
    },
    {
      "cell_type": "code",
      "source": [
        "# Creation:\n",
        "list1 = [1, 2, 3, 4, 5, 0]\n",
        "len(list1)"
      ],
      "metadata": {
        "colab": {
          "base_uri": "https://localhost:8080/"
        },
        "id": "Kbj5gf-7JN8L",
        "outputId": "6df4d63d-cf8d-4f05-c36a-948af30ac153"
      },
      "execution_count": null,
      "outputs": [
        {
          "output_type": "execute_result",
          "data": {
            "text/plain": [
              "6"
            ]
          },
          "metadata": {},
          "execution_count": 1
        }
      ]
    },
    {
      "cell_type": "code",
      "source": [
        "# Index:\n",
        "for i in range(len(list1)):\n",
        "  print('index', i, 'has element', list1[i])"
      ],
      "metadata": {
        "colab": {
          "base_uri": "https://localhost:8080/"
        },
        "id": "at6mCCSnJXls",
        "outputId": "5cfb6daf-30dd-4753-b155-d864e17c1983"
      },
      "execution_count": null,
      "outputs": [
        {
          "output_type": "stream",
          "name": "stdout",
          "text": [
            "index 0 has element 1\n",
            "index 1 has element 2\n",
            "index 2 has element 3\n",
            "index 3 has element 4\n",
            "index 4 has element 5\n",
            "index 5 has element 0\n"
          ]
        }
      ]
    },
    {
      "cell_type": "code",
      "source": [
        "for i in list1:\n",
        "  print(i)"
      ],
      "metadata": {
        "colab": {
          "base_uri": "https://localhost:8080/"
        },
        "id": "mpGP85BcJlRp",
        "outputId": "6ef5a874-de09-4438-df8a-1dc42d1fbb2c"
      },
      "execution_count": null,
      "outputs": [
        {
          "output_type": "stream",
          "name": "stdout",
          "text": [
            "1\n",
            "2\n",
            "3\n",
            "4\n",
            "5\n",
            "0\n"
          ]
        }
      ]
    },
    {
      "cell_type": "code",
      "source": [
        "# append\n",
        "list2 = []\n",
        "for i in range(10):\n",
        "    list2.append(i)\n",
        "list2"
      ],
      "metadata": {
        "colab": {
          "base_uri": "https://localhost:8080/"
        },
        "id": "Q3Wsut-_JlVM",
        "outputId": "329d1aeb-e20c-443a-dcdd-6ac4d68a7ff9"
      },
      "execution_count": null,
      "outputs": [
        {
          "output_type": "execute_result",
          "data": {
            "text/plain": [
              "[0, 1, 2, 3, 4, 5, 6, 7, 8, 9]"
            ]
          },
          "metadata": {},
          "execution_count": 26
        }
      ]
    },
    {
      "cell_type": "code",
      "source": [
        "# remove\n",
        "for i in list2:\n",
        "  if i %2 == 0:\n",
        "    list2.remove(i)\n",
        "list2"
      ],
      "metadata": {
        "colab": {
          "base_uri": "https://localhost:8080/"
        },
        "id": "RhDjbwUGJlZl",
        "outputId": "1e041911-6efd-4fc1-cb45-13ade67fb30f"
      },
      "execution_count": null,
      "outputs": [
        {
          "output_type": "execute_result",
          "data": {
            "text/plain": [
              "[1, 3, 5, 7, 9]"
            ]
          },
          "metadata": {},
          "execution_count": 27
        }
      ]
    },
    {
      "cell_type": "code",
      "source": [
        "# sort\n",
        "list2.sort()\n",
        "list2"
      ],
      "metadata": {
        "colab": {
          "base_uri": "https://localhost:8080/"
        },
        "id": "qfhEheizKM7g",
        "outputId": "de85aa8e-f4fd-4f39-9b88-a2d90ccb0382"
      },
      "execution_count": null,
      "outputs": [
        {
          "output_type": "execute_result",
          "data": {
            "text/plain": [
              "[1, 3, 5, 7, 9]"
            ]
          },
          "metadata": {},
          "execution_count": 28
        }
      ]
    },
    {
      "cell_type": "code",
      "source": [
        "# extend\n",
        "list2.extend([99, 100])\n",
        "list2"
      ],
      "metadata": {
        "colab": {
          "base_uri": "https://localhost:8080/"
        },
        "id": "oi0up4BlKM_e",
        "outputId": "ebf7028e-137e-42c9-df61-57e7bd85d8ab"
      },
      "execution_count": null,
      "outputs": [
        {
          "output_type": "execute_result",
          "data": {
            "text/plain": [
              "[1, 3, 5, 7, 9, 99, 100]"
            ]
          },
          "metadata": {},
          "execution_count": 29
        }
      ]
    },
    {
      "cell_type": "code",
      "source": [
        "import random\n",
        "list3 = [x for x in range(10)]\n",
        "list4 = [x*2 for x in range(10)]\n",
        "list5 = [(x*2, x**2) for x in range(10)]\n",
        "list6 = [random.randint(0, 1) for x in range (0, 10)]\n",
        "print(list3)\n",
        "print(list4)\n",
        "print(list5)\n",
        "print(list6)"
      ],
      "metadata": {
        "colab": {
          "base_uri": "https://localhost:8080/"
        },
        "id": "Js_rS1DFKNDj",
        "outputId": "5382345b-a6e6-405f-dac7-f7b7e65286db"
      },
      "execution_count": null,
      "outputs": [
        {
          "output_type": "stream",
          "name": "stdout",
          "text": [
            "[0, 1, 2, 3, 4, 5, 6, 7, 8, 9]\n",
            "[0, 2, 4, 6, 8, 10, 12, 14, 16, 18]\n",
            "[(0, 0), (2, 1), (4, 4), (6, 9), (8, 16), (10, 25), (12, 36), (14, 49), (16, 64), (18, 81)]\n",
            "[1, 1, 1, 1, 1, 0, 0, 1, 0, 1]\n"
          ]
        }
      ]
    },
    {
      "cell_type": "markdown",
      "source": [
        "<table width=\"850\">\n",
        "<td bgcolor=\"#d5695d\"><font color=\"white\" size=\"6\"><b>\n",
        "2. String\n",
        "</b></font></td></table>\n"
      ],
      "metadata": {
        "id": "nzZL0wJFxgFA"
      }
    },
    {
      "cell_type": "markdown",
      "source": [
        "<table width=\"850\">\n",
        "<td bgcolor=\"#f8f2e4\"><font color=\"black\" size=\"4\"><b>\n",
        "2.1 Creation and Access\n",
        "</b><br><br>\n",
        "Task:\n",
        "</font></td></table>"
      ],
      "metadata": {
        "id": "bOR0L_n5xgFC"
      }
    },
    {
      "cell_type": "code",
      "source": [
        "s1 = 'Hello, world!'\n",
        "print(s1)"
      ],
      "metadata": {
        "colab": {
          "base_uri": "https://localhost:8080/"
        },
        "outputId": "3f1fe1d0-240f-49c9-c05d-f8c2af2f19d2",
        "id": "6syYIpIVxgFD"
      },
      "execution_count": null,
      "outputs": [
        {
          "output_type": "stream",
          "name": "stdout",
          "text": [
            "Hello, world!\n"
          ]
        }
      ]
    },
    {
      "cell_type": "code",
      "source": [
        "s2 = 'Hello,' + ' world!'\n",
        "print(s2)"
      ],
      "metadata": {
        "colab": {
          "base_uri": "https://localhost:8080/"
        },
        "id": "BUf9Zxs7Ljsh",
        "outputId": "ae4b55c9-abcc-4171-a4c7-ad339f92f667"
      },
      "execution_count": null,
      "outputs": [
        {
          "output_type": "stream",
          "name": "stdout",
          "text": [
            "Hello, world!\n"
          ]
        }
      ]
    },
    {
      "cell_type": "code",
      "source": [
        "for i in s1:\n",
        "  print(i)"
      ],
      "metadata": {
        "colab": {
          "base_uri": "https://localhost:8080/"
        },
        "id": "PDGW7cFeMmUn",
        "outputId": "1c5de622-0b87-4807-a041-1bcb381c4dd0"
      },
      "execution_count": null,
      "outputs": [
        {
          "output_type": "stream",
          "name": "stdout",
          "text": [
            "H\n",
            "e\n",
            "l\n",
            "l\n",
            "o\n",
            ",\n",
            " \n",
            "w\n",
            "o\n",
            "r\n",
            "l\n",
            "d\n",
            "!\n"
          ]
        }
      ]
    },
    {
      "cell_type": "code",
      "source": [
        "for i in s1[-1::-1]:  # start from last, step 1 from last to first\n",
        "  print(i)"
      ],
      "metadata": {
        "colab": {
          "base_uri": "https://localhost:8080/"
        },
        "id": "zz4jD_-iMrp_",
        "outputId": "41c2f8f1-0468-4341-f7fc-6132ed166881"
      },
      "execution_count": null,
      "outputs": [
        {
          "output_type": "stream",
          "name": "stdout",
          "text": [
            "!\n",
            "d\n",
            "l\n",
            "r\n",
            "o\n",
            "w\n",
            " \n",
            ",\n",
            "o\n",
            "l\n",
            "l\n",
            "e\n",
            "H\n"
          ]
        }
      ]
    },
    {
      "cell_type": "code",
      "source": [
        "for i in range(len(s1)-1,-1,-1):\n",
        "  print(s1[i])"
      ],
      "metadata": {
        "colab": {
          "base_uri": "https://localhost:8080/"
        },
        "id": "onFTGRpBNUVf",
        "outputId": "dab33641-7399-4bf5-8c90-c33cfaeb9a78"
      },
      "execution_count": null,
      "outputs": [
        {
          "output_type": "stream",
          "name": "stdout",
          "text": [
            "!\n",
            "d\n",
            "l\n",
            "r\n",
            "o\n",
            "w\n",
            " \n",
            ",\n",
            "o\n",
            "l\n",
            "l\n",
            "e\n",
            "H\n"
          ]
        }
      ]
    },
    {
      "cell_type": "code",
      "source": [
        "name = 'Milanfx'\n",
        "age = 10\n",
        "s3 = 'Your name is ' + name + ', and your age is ' + str(age)\n",
        "print(s3)"
      ],
      "metadata": {
        "colab": {
          "base_uri": "https://localhost:8080/"
        },
        "id": "52FBXQ-ZLjw0",
        "outputId": "70455d6c-761d-49ce-a991-4aab9f2c39c1"
      },
      "execution_count": null,
      "outputs": [
        {
          "output_type": "stream",
          "name": "stdout",
          "text": [
            "Your name is Milanfx, and your age is 10\n"
          ]
        }
      ]
    },
    {
      "cell_type": "code",
      "source": [
        "s4 = 'Your name is {}, and your age is {}'.format(name, age)\n",
        "print(s4)"
      ],
      "metadata": {
        "colab": {
          "base_uri": "https://localhost:8080/"
        },
        "id": "KBvs7G0bLj1T",
        "outputId": "99a3fe75-7ea5-48fa-e3f1-506dd982f902"
      },
      "execution_count": null,
      "outputs": [
        {
          "output_type": "stream",
          "name": "stdout",
          "text": [
            "Your name is Milanfx, and your age is 10\n"
          ]
        }
      ]
    },
    {
      "cell_type": "markdown",
      "source": [
        "<table width=\"850\">\n",
        "<td bgcolor=\"#f8f2e4\"><font color=\"black\" size=\"4\"><b>\n",
        "2.2 Splitting and Slicing\n",
        "</b><br><br>\n",
        "Task:\n",
        "</font></td></table>"
      ],
      "metadata": {
        "id": "I0OJ9yWgOAPl"
      }
    },
    {
      "cell_type": "code",
      "source": [
        "# splitting by space\n",
        "s5 = 'Hello, world!'.split()\n",
        "print(s5)"
      ],
      "metadata": {
        "colab": {
          "base_uri": "https://localhost:8080/"
        },
        "id": "osWDQTcgLj43",
        "outputId": "bc3e47c3-91d0-40bc-c68a-130a5997979c"
      },
      "execution_count": null,
      "outputs": [
        {
          "output_type": "stream",
          "name": "stdout",
          "text": [
            "['Hello,', 'world!']\n"
          ]
        }
      ]
    },
    {
      "cell_type": "code",
      "source": [
        "# splitting by comma\n",
        "s6 = 'Hello, world!'.split(',')\n",
        "print(s6)"
      ],
      "metadata": {
        "id": "xuENXRptLj82"
      },
      "execution_count": null,
      "outputs": []
    },
    {
      "cell_type": "code",
      "source": [
        "# splitting by word\n",
        "s7 = 'Hello, world!'.split('w')\n",
        "print(s7)"
      ],
      "metadata": {
        "colab": {
          "base_uri": "https://localhost:8080/"
        },
        "id": "2GkV7igILkAq",
        "outputId": "75bec7d8-db1a-4bf5-df2a-04beeefbbb6b"
      },
      "execution_count": null,
      "outputs": [
        {
          "output_type": "stream",
          "name": "stdout",
          "text": [
            "['Hello, ', 'orld!']\n"
          ]
        }
      ]
    },
    {
      "cell_type": "code",
      "source": [
        "# slice\n",
        "s8 = s1[:5] # first 5\n",
        "print(s8)"
      ],
      "metadata": {
        "colab": {
          "base_uri": "https://localhost:8080/"
        },
        "id": "HKVXCLRgLkEt",
        "outputId": "a5167709-7ffd-463c-d25d-030dadb6a6f2"
      },
      "execution_count": null,
      "outputs": [
        {
          "output_type": "stream",
          "name": "stdout",
          "text": [
            "Hello\n"
          ]
        }
      ]
    },
    {
      "cell_type": "code",
      "source": [
        "# slice\n",
        "s9 = s1[-5:] # last 5\n",
        "print(s9)"
      ],
      "metadata": {
        "colab": {
          "base_uri": "https://localhost:8080/"
        },
        "id": "lwwcNnbbLkIg",
        "outputId": "22809d4b-7959-437b-dda6-2a229a57b755"
      },
      "execution_count": null,
      "outputs": [
        {
          "output_type": "stream",
          "name": "stdout",
          "text": [
            "orld!\n"
          ]
        }
      ]
    },
    {
      "cell_type": "code",
      "source": [
        "s10 = s1[-1::-1]\n",
        "print(s10)"
      ],
      "metadata": {
        "colab": {
          "base_uri": "https://localhost:8080/"
        },
        "id": "7ujZ20uSLkML",
        "outputId": "0cad6ddb-118b-4402-ec98-cf20cd3f065f"
      },
      "execution_count": null,
      "outputs": [
        {
          "output_type": "stream",
          "name": "stdout",
          "text": [
            "!dlrow \n"
          ]
        }
      ]
    },
    {
      "cell_type": "markdown",
      "source": [
        "<table width=\"850\">\n",
        "<td bgcolor=\"#d5695d\"><font color=\"white\" size=\"6\"><b>\n",
        "3. Set\n",
        "</b></font></td></table>\n"
      ],
      "metadata": {
        "id": "Mtjy-9pCxgVY"
      }
    },
    {
      "cell_type": "markdown",
      "source": [
        "<table width=\"850\">\n",
        "<td bgcolor=\"#f8f2e4\"><font color=\"black\" size=\"4\"><b>\n",
        "3.1 Creation and Access\n",
        "</b><br><br>\n",
        "Task:\n",
        "</font></td></table>"
      ],
      "metadata": {
        "id": "Zubab6-6xgVZ"
      }
    },
    {
      "cell_type": "code",
      "source": [
        "set1 = set(s1)\n",
        "set1"
      ],
      "metadata": {
        "colab": {
          "base_uri": "https://localhost:8080/"
        },
        "outputId": "41133044-048c-448c-8adf-36c7fb846115",
        "id": "zjp96h-oxgVa"
      },
      "execution_count": null,
      "outputs": [
        {
          "output_type": "execute_result",
          "data": {
            "text/plain": [
              "{' ', '!', ',', 'H', 'd', 'e', 'l', 'o', 'r', 'w'}"
            ]
          },
          "metadata": {},
          "execution_count": 92
        }
      ]
    },
    {
      "cell_type": "code",
      "source": [
        "set2 = set(list1)\n",
        "set2"
      ],
      "metadata": {
        "colab": {
          "base_uri": "https://localhost:8080/"
        },
        "id": "qPEjeBOdTDe_",
        "outputId": "b434adc0-4d73-4fb4-8e21-3b74b3d679a1"
      },
      "execution_count": null,
      "outputs": [
        {
          "output_type": "execute_result",
          "data": {
            "text/plain": [
              "{0, 1, 2, 3, 4, 5}"
            ]
          },
          "metadata": {},
          "execution_count": 93
        }
      ]
    },
    {
      "cell_type": "code",
      "source": [
        "# add\n",
        "set2.add(100)\n",
        "set2"
      ],
      "metadata": {
        "colab": {
          "base_uri": "https://localhost:8080/"
        },
        "id": "n0ymkPvLTDkC",
        "outputId": "dfbb377c-8060-4bae-b247-769b8c87e6ad"
      },
      "execution_count": null,
      "outputs": [
        {
          "output_type": "execute_result",
          "data": {
            "text/plain": [
              "{0, 1, 2, 3, 4, 5, 100}"
            ]
          },
          "metadata": {},
          "execution_count": 94
        }
      ]
    },
    {
      "cell_type": "code",
      "source": [
        "# remove\n",
        "set2.remove(0) # with error\n",
        "set2"
      ],
      "metadata": {
        "colab": {
          "base_uri": "https://localhost:8080/"
        },
        "id": "RxHoFcBMTDoZ",
        "outputId": "3cdc17c6-38b2-42d8-bb79-dc3f1e034685"
      },
      "execution_count": null,
      "outputs": [
        {
          "output_type": "execute_result",
          "data": {
            "text/plain": [
              "{1, 2, 3, 4, 5, 100}"
            ]
          },
          "metadata": {},
          "execution_count": 95
        }
      ]
    },
    {
      "cell_type": "code",
      "source": [
        "# discard\n",
        "set2.discard(0) # no error\n",
        "set2"
      ],
      "metadata": {
        "colab": {
          "base_uri": "https://localhost:8080/"
        },
        "id": "rybb_-k5TDtH",
        "outputId": "98698ebd-2f3d-4b07-c5ba-b113b6981037"
      },
      "execution_count": null,
      "outputs": [
        {
          "output_type": "execute_result",
          "data": {
            "text/plain": [
              "{1, 2, 3, 4, 5, 100}"
            ]
          },
          "metadata": {},
          "execution_count": 96
        }
      ]
    },
    {
      "cell_type": "code",
      "source": [
        "set3 = {\"Apple\", \"Orange\", \"Banana\"}\n",
        "set4 = {\"Pear\", \"Peach\", \"Mango\", \"Banana\"}"
      ],
      "metadata": {
        "cell_id": "7acd5991a4d143229f4bdd30b8e65f3a",
        "deepnote_cell_type": "code",
        "id": "7CmrGaBu20sL"
      },
      "outputs": [],
      "execution_count": null
    },
    {
      "cell_type": "code",
      "source": [
        "set3,set4"
      ],
      "metadata": {
        "cell_id": "cee3251c6db44b669b77074fbb5c1af7",
        "deepnote_cell_type": "code",
        "colab": {
          "base_uri": "https://localhost:8080/"
        },
        "id": "x9MgVjoT20sL",
        "outputId": "6c98ac40-bd3b-4686-c010-a1513b6bee09"
      },
      "outputs": [
        {
          "output_type": "execute_result",
          "data": {
            "text/plain": [
              "({'Apple', 'Banana', 'Orange'}, {'Banana', 'Mango', 'Peach', 'Pear'})"
            ]
          },
          "metadata": {},
          "execution_count": 99
        }
      ],
      "execution_count": null
    },
    {
      "cell_type": "code",
      "source": [
        "set3 | set4"
      ],
      "metadata": {
        "cell_id": "d87428fba2ac4c71ba9441d5095f8e3a",
        "deepnote_cell_type": "code",
        "colab": {
          "base_uri": "https://localhost:8080/"
        },
        "id": "5J8-81dV20sM",
        "outputId": "7895ce9e-b96d-40ea-d93b-5413fb56cf70"
      },
      "outputs": [
        {
          "output_type": "execute_result",
          "data": {
            "text/plain": [
              "{'Apple', 'Banana', 'Mango', 'Orange', 'Peach', 'Pear'}"
            ]
          },
          "metadata": {},
          "execution_count": 100
        }
      ],
      "execution_count": null
    },
    {
      "cell_type": "code",
      "source": [
        "set3 & set4"
      ],
      "metadata": {
        "cell_id": "15f9007306284f4799e6ab85a2dc74d9",
        "deepnote_cell_type": "code",
        "colab": {
          "base_uri": "https://localhost:8080/"
        },
        "id": "M7w5a8RT20sM",
        "outputId": "6cb8121f-8d96-4bbe-bcb4-e27256d33693"
      },
      "outputs": [
        {
          "output_type": "execute_result",
          "data": {
            "text/plain": [
              "{'Banana'}"
            ]
          },
          "metadata": {},
          "execution_count": 101
        }
      ],
      "execution_count": null
    },
    {
      "cell_type": "markdown",
      "source": [
        "<table width=\"850\">\n",
        "<td bgcolor=\"#d5695d\"><font color=\"white\" size=\"6\"><b>\n",
        "4. Dictionary\n",
        "</b></font></td></table>\n"
      ],
      "metadata": {
        "id": "RGWpFQjBxggE"
      }
    },
    {
      "cell_type": "markdown",
      "source": [
        "<table width=\"850\">\n",
        "<td bgcolor=\"#f8f2e4\"><font color=\"black\" size=\"4\"><b>\n",
        "4.1 Creation and Access\n",
        "</b><br><br>\n",
        "Task:\n",
        "</font></td></table>"
      ],
      "metadata": {
        "id": "jVPv6qyFxggF"
      }
    },
    {
      "cell_type": "code",
      "source": [
        "d1 = dict([('Harry', 1), ('Hermione', 2), ('Ron', 3)])\n",
        "d1"
      ],
      "metadata": {
        "colab": {
          "base_uri": "https://localhost:8080/"
        },
        "id": "TxxAN56K7aFI",
        "outputId": "45b80b54-a067-4e47-cea6-f2f37957fefd"
      },
      "execution_count": null,
      "outputs": [
        {
          "output_type": "execute_result",
          "data": {
            "text/plain": [
              "{'Harry': 1, 'Hermione': 2, 'Ron': 3}"
            ]
          },
          "metadata": {},
          "execution_count": 106
        }
      ]
    },
    {
      "cell_type": "code",
      "source": [
        "d1 = dict(Harry=1, Hermione=2, Ron=3)\n",
        "d1"
      ],
      "metadata": {
        "colab": {
          "base_uri": "https://localhost:8080/"
        },
        "id": "a0-7r7Kh74Ly",
        "outputId": "63f8d519-1c1c-41f2-9c2b-607bcb8a9b8d"
      },
      "execution_count": null,
      "outputs": [
        {
          "output_type": "execute_result",
          "data": {
            "text/plain": [
              "{'Harry': 1, 'Hermione': 2, 'Ron': 3}"
            ]
          },
          "metadata": {},
          "execution_count": 107
        }
      ]
    },
    {
      "cell_type": "code",
      "source": [
        "d1 = {'Harry': 1, 'Hermione': 2, 'Ron':3}\n",
        "d1"
      ],
      "metadata": {
        "cell_id": "ffd04a29364b45429075c4b0684b04eb",
        "deepnote_cell_height": 61,
        "deepnote_cell_type": "code",
        "colab": {
          "base_uri": "https://localhost:8080/"
        },
        "id": "saODq-kv4iNQ",
        "outputId": "b15c3ef7-e9bc-447d-8e54-f55624f9357b"
      },
      "outputs": [
        {
          "output_type": "execute_result",
          "data": {
            "text/plain": [
              "{'Harry': 1, 'Hermione': 2, 'Ron': 3}"
            ]
          },
          "metadata": {},
          "execution_count": 108
        }
      ],
      "execution_count": null
    },
    {
      "cell_type": "code",
      "source": [
        "d1.get('Ron')"
      ],
      "metadata": {
        "colab": {
          "base_uri": "https://localhost:8080/"
        },
        "id": "eloITAPbTD1i",
        "outputId": "cf0ba741-92ce-46ad-843b-31a46c9b1931"
      },
      "execution_count": null,
      "outputs": [
        {
          "output_type": "execute_result",
          "data": {
            "text/plain": [
              "3"
            ]
          },
          "metadata": {},
          "execution_count": 110
        }
      ]
    },
    {
      "cell_type": "code",
      "source": [
        "d1['Ron']"
      ],
      "metadata": {
        "colab": {
          "base_uri": "https://localhost:8080/"
        },
        "id": "6uIUcc2PTD6D",
        "outputId": "db1ed8c2-1fe4-4084-82cf-9e9ee308a325"
      },
      "execution_count": null,
      "outputs": [
        {
          "output_type": "execute_result",
          "data": {
            "text/plain": [
              "3"
            ]
          },
          "metadata": {},
          "execution_count": 111
        }
      ]
    },
    {
      "cell_type": "code",
      "source": [
        "d1.keys()"
      ],
      "metadata": {
        "colab": {
          "base_uri": "https://localhost:8080/"
        },
        "id": "QqqwIq1pVnin",
        "outputId": "0fd3d9db-ab11-423c-e643-887f8142a054"
      },
      "execution_count": null,
      "outputs": [
        {
          "output_type": "execute_result",
          "data": {
            "text/plain": [
              "dict_keys(['Harry', 'Hermione', 'Ron'])"
            ]
          },
          "metadata": {},
          "execution_count": 114
        }
      ]
    },
    {
      "cell_type": "code",
      "source": [
        "d1.values()"
      ],
      "metadata": {
        "colab": {
          "base_uri": "https://localhost:8080/"
        },
        "id": "816nSz2fVns7",
        "outputId": "5d8cb278-8a77-4758-d956-92f83410fef3"
      },
      "execution_count": null,
      "outputs": [
        {
          "output_type": "execute_result",
          "data": {
            "text/plain": [
              "dict_values([1, 2, 3])"
            ]
          },
          "metadata": {},
          "execution_count": 115
        }
      ]
    },
    {
      "cell_type": "code",
      "source": [
        "for i, j in d1.items():\n",
        "    print(\"{}: {}\".format(i, j))"
      ],
      "metadata": {
        "colab": {
          "base_uri": "https://localhost:8080/"
        },
        "id": "LG3wGs5hTD9_",
        "outputId": "e1476490-33f7-414a-d895-d2e993a4f35c"
      },
      "execution_count": null,
      "outputs": [
        {
          "output_type": "stream",
          "name": "stdout",
          "text": [
            "Harry: 1\n",
            "Hermione: 2\n",
            "Ron: 3\n"
          ]
        }
      ]
    },
    {
      "cell_type": "code",
      "source": [
        "d2 = {x : x**2 for x in range(5)}\n",
        "d2"
      ],
      "metadata": {
        "colab": {
          "base_uri": "https://localhost:8080/"
        },
        "outputId": "57d156c6-37e3-4ed6-a44b-6dc18459ec17",
        "id": "khV_RxzIxggG"
      },
      "execution_count": null,
      "outputs": [
        {
          "output_type": "execute_result",
          "data": {
            "text/plain": [
              "{0: 0, 1: 1, 2: 4, 3: 9, 4: 16}"
            ]
          },
          "metadata": {},
          "execution_count": 117
        }
      ]
    },
    {
      "cell_type": "code",
      "source": [
        "d2[5]=25\n",
        "d2"
      ],
      "metadata": {
        "colab": {
          "base_uri": "https://localhost:8080/"
        },
        "id": "fCaf1hP6WAGC",
        "outputId": "246641a0-4e6a-47c0-dcbd-7c28b745ed26"
      },
      "execution_count": null,
      "outputs": [
        {
          "output_type": "execute_result",
          "data": {
            "text/plain": [
              "{0: 0, 1: 1, 2: 4, 3: 9, 4: 16, 5: 25}"
            ]
          },
          "metadata": {},
          "execution_count": 119
        }
      ]
    },
    {
      "cell_type": "markdown",
      "source": [
        "<table width=\"850\">\n",
        "<td bgcolor=\"#d5695d\"><font color=\"white\" size=\"6\"><b>\n",
        "5. List Lab\n",
        "</b></font></td></table>\n"
      ],
      "metadata": {
        "id": "jZPB-j1KW55B"
      }
    },
    {
      "cell_type": "code",
      "source": [
        "names = ['STU' + str(i) for i in range(100,110)]\n",
        "names"
      ],
      "metadata": {
        "colab": {
          "base_uri": "https://localhost:8080/"
        },
        "id": "9or5r6NZWTxT",
        "outputId": "4e22ef96-0e22-4682-ef8d-88b59e41cdd1"
      },
      "execution_count": null,
      "outputs": [
        {
          "output_type": "execute_result",
          "data": {
            "text/plain": [
              "['STU100',\n",
              " 'STU101',\n",
              " 'STU102',\n",
              " 'STU103',\n",
              " 'STU104',\n",
              " 'STU105',\n",
              " 'STU106',\n",
              " 'STU107',\n",
              " 'STU108',\n",
              " 'STU109']"
            ]
          },
          "metadata": {},
          "execution_count": 133
        }
      ]
    },
    {
      "cell_type": "code",
      "source": [
        "scores = [ random.randint(60, 100) for i in range(10)]\n",
        "scores"
      ],
      "metadata": {
        "colab": {
          "base_uri": "https://localhost:8080/"
        },
        "id": "E1UCRKYXXKUq",
        "outputId": "761b6229-0d35-4f63-8075-13ed98c382c7"
      },
      "execution_count": null,
      "outputs": [
        {
          "output_type": "execute_result",
          "data": {
            "text/plain": [
              "[83, 65, 77, 68, 96, 62, 93, 89, 94, 90]"
            ]
          },
          "metadata": {},
          "execution_count": 134
        }
      ]
    },
    {
      "cell_type": "code",
      "source": [
        "gradebook = [[name,score] for name,score in zip(names, scores)]\n",
        "gradebook"
      ],
      "metadata": {
        "colab": {
          "base_uri": "https://localhost:8080/"
        },
        "id": "MY1GkIJwXNvk",
        "outputId": "253a91c2-9e1d-4f36-f8af-20b0b865fa8d"
      },
      "execution_count": null,
      "outputs": [
        {
          "output_type": "execute_result",
          "data": {
            "text/plain": [
              "[['STU100', 83],\n",
              " ['STU101', 65],\n",
              " ['STU102', 77],\n",
              " ['STU103', 68],\n",
              " ['STU104', 96],\n",
              " ['STU105', 62],\n",
              " ['STU106', 93],\n",
              " ['STU107', 89],\n",
              " ['STU108', 94],\n",
              " ['STU109', 90]]"
            ]
          },
          "metadata": {},
          "execution_count": 135
        }
      ]
    },
    {
      "cell_type": "code",
      "source": [
        "gb1 = gradebook[:5]\n",
        "gb1"
      ],
      "metadata": {
        "colab": {
          "base_uri": "https://localhost:8080/"
        },
        "id": "GUul02eOXhqF",
        "outputId": "d9cc70ba-bbcd-48c0-b55f-b75809b00d68"
      },
      "execution_count": null,
      "outputs": [
        {
          "output_type": "execute_result",
          "data": {
            "text/plain": [
              "[['STU100', 83],\n",
              " ['STU101', 65],\n",
              " ['STU102', 77],\n",
              " ['STU103', 68],\n",
              " ['STU104', 96]]"
            ]
          },
          "metadata": {},
          "execution_count": 136
        }
      ]
    },
    {
      "cell_type": "code",
      "source": [
        "gb2 = [i for i in gradebook if int(i[0][-1]) %2 == 0]\n",
        "gb2"
      ],
      "metadata": {
        "colab": {
          "base_uri": "https://localhost:8080/"
        },
        "id": "N5sTS9x9XhxB",
        "outputId": "291d29a7-00d6-4875-c81e-9978e46ea3e7"
      },
      "execution_count": null,
      "outputs": [
        {
          "output_type": "execute_result",
          "data": {
            "text/plain": [
              "[['STU100', 83],\n",
              " ['STU102', 77],\n",
              " ['STU104', 96],\n",
              " ['STU106', 93],\n",
              " ['STU108', 94]]"
            ]
          },
          "metadata": {},
          "execution_count": 137
        }
      ]
    },
    {
      "cell_type": "code",
      "source": [
        "gb3 = [j for j in gradebook if j[1] > 80]\n",
        "gb3"
      ],
      "metadata": {
        "colab": {
          "base_uri": "https://localhost:8080/"
        },
        "id": "P4AIP-srXh5S",
        "outputId": "45f2e591-a525-4b0a-ec65-88c86a0ef960"
      },
      "execution_count": null,
      "outputs": [
        {
          "output_type": "execute_result",
          "data": {
            "text/plain": [
              "[['STU100', 83],\n",
              " ['STU104', 96],\n",
              " ['STU106', 93],\n",
              " ['STU107', 89],\n",
              " ['STU108', 94],\n",
              " ['STU109', 90]]"
            ]
          },
          "metadata": {},
          "execution_count": 141
        }
      ]
    },
    {
      "cell_type": "code",
      "source": [
        "total = 0\n",
        "for s in scores:\n",
        "  total += s\n",
        "avg = total / len(scores)\n",
        "gb4 = [v for v in gradebook if v[1] < avg]\n",
        "gb4"
      ],
      "metadata": {
        "colab": {
          "base_uri": "https://localhost:8080/"
        },
        "id": "K4ngfh_4XiBz",
        "outputId": "3eeaed00-2ea2-46d3-b8a1-6b816eea9f91"
      },
      "execution_count": null,
      "outputs": [
        {
          "output_type": "execute_result",
          "data": {
            "text/plain": [
              "[['STU101', 65], ['STU102', 77], ['STU103', 68], ['STU105', 62]]"
            ]
          },
          "metadata": {},
          "execution_count": 142
        }
      ]
    },
    {
      "cell_type": "code",
      "source": [
        "def g2l(score):\n",
        "    letters = ['F','F','F','F','F','F','D','C','B','A']\n",
        "    return letters[score//10]\n",
        "gradebook = [[v[0],g2l(v[1])] for v in gradebook]\n",
        "gradebook"
      ],
      "metadata": {
        "colab": {
          "base_uri": "https://localhost:8080/"
        },
        "id": "YNFK3bThXiMO",
        "outputId": "5927949a-a943-40ae-b4ee-e29ef7b1ba95"
      },
      "execution_count": null,
      "outputs": [
        {
          "output_type": "execute_result",
          "data": {
            "text/plain": [
              "[['STU100', 'B'],\n",
              " ['STU101', 'D'],\n",
              " ['STU102', 'C'],\n",
              " ['STU103', 'D'],\n",
              " ['STU104', 'A'],\n",
              " ['STU105', 'D'],\n",
              " ['STU106', 'A'],\n",
              " ['STU107', 'B'],\n",
              " ['STU108', 'A'],\n",
              " ['STU109', 'A']]"
            ]
          },
          "metadata": {},
          "execution_count": 143
        }
      ]
    },
    {
      "cell_type": "markdown",
      "source": [
        "<table width=\"850\">\n",
        "<td bgcolor=\"#d5695d\"><font color=\"white\" size=\"6\"><b>\n",
        "6. Set Lab\n",
        "</b></font></td></table>\n"
      ],
      "metadata": {
        "id": "BZb9o30_aHmP"
      }
    },
    {
      "cell_type": "code",
      "source": [
        "import random\n",
        "\n",
        "scores1 = [random.randint(60, 100) for i in range(10) ]\n",
        "scores2 = [random.randint(60, 100) for i in range(10) ]"
      ],
      "metadata": {
        "tags": [],
        "cell_id": "786ae477329b4e8cbb0b02c18cbc5107",
        "source_hash": "3478a76d",
        "execution_start": 1668293746579,
        "execution_millis": 580,
        "deepnote_app_coordinates": {
          "h": 5,
          "w": 12,
          "x": 0,
          "y": 19
        },
        "deepnote_to_be_reexecuted": false,
        "deepnote_cell_type": "code",
        "id": "N4paz_Pz3F8R"
      },
      "outputs": [],
      "execution_count": null
    },
    {
      "cell_type": "code",
      "source": [
        "set1 = set(scores1)\n",
        "set2 = set(scores2)\n",
        "print(set1, set2)"
      ],
      "metadata": {
        "id": "hse6wgqx3eBK",
        "colab": {
          "base_uri": "https://localhost:8080/"
        },
        "outputId": "2b27a06d-6f9e-44ba-8f14-14a5fb813cad"
      },
      "execution_count": null,
      "outputs": [
        {
          "output_type": "stream",
          "name": "stdout",
          "text": [
            "{67, 100, 71, 76, 77, 86, 89} {97, 66, 99, 100, 67, 77, 78, 80, 91, 93}\n"
          ]
        }
      ]
    },
    {
      "cell_type": "code",
      "source": [
        "print(set1.union(set2))"
      ],
      "metadata": {
        "colab": {
          "base_uri": "https://localhost:8080/"
        },
        "id": "gc8OmN9OXgg7",
        "outputId": "44e18c6e-38de-4f46-ae9d-6d3adb6537c0"
      },
      "execution_count": null,
      "outputs": [
        {
          "output_type": "stream",
          "name": "stdout",
          "text": [
            "{66, 67, 71, 76, 77, 78, 80, 86, 89, 91, 93, 97, 99, 100}\n"
          ]
        }
      ]
    },
    {
      "cell_type": "code",
      "source": [
        "print(set1.intersection(set2))"
      ],
      "metadata": {
        "colab": {
          "base_uri": "https://localhost:8080/"
        },
        "id": "Psg8_vxWbBzH",
        "outputId": "fc340cbb-8bc4-40d7-b254-ba59a8bdb953"
      },
      "execution_count": null,
      "outputs": [
        {
          "output_type": "stream",
          "name": "stdout",
          "text": [
            "{67, 100, 77}\n"
          ]
        }
      ]
    },
    {
      "cell_type": "code",
      "source": [
        "print(set1.difference(set2))"
      ],
      "metadata": {
        "colab": {
          "base_uri": "https://localhost:8080/"
        },
        "id": "B2DEIPLpbETE",
        "outputId": "2b0da7f6-2c45-4796-a2a0-9f1f18b1192f"
      },
      "execution_count": null,
      "outputs": [
        {
          "output_type": "stream",
          "name": "stdout",
          "text": [
            "{89, 76, 86, 71}\n"
          ]
        }
      ]
    },
    {
      "cell_type": "code",
      "source": [
        "print(set2.difference(set1))"
      ],
      "metadata": {
        "colab": {
          "base_uri": "https://localhost:8080/"
        },
        "id": "EuO3dIsCbFtL",
        "outputId": "f289ccf6-3152-48f4-c1ea-1f6162ffc889"
      },
      "execution_count": null,
      "outputs": [
        {
          "output_type": "stream",
          "name": "stdout",
          "text": [
            "{97, 66, 99, 78, 80, 91, 93}\n"
          ]
        }
      ]
    },
    {
      "cell_type": "markdown",
      "source": [
        "<table width=\"850\">\n",
        "<td bgcolor=\"#d5695d\"><font color=\"white\" size=\"6\"><b>\n",
        "7. Dictionary Lab\n",
        "</b></font></td></table>\n"
      ],
      "metadata": {
        "id": "f8svlVtxhVWS"
      }
    },
    {
      "cell_type": "code",
      "source": [
        "d1 = {name:score1 for name, score1 in zip(names, scores1)}\n",
        "d1"
      ],
      "metadata": {
        "colab": {
          "base_uri": "https://localhost:8080/"
        },
        "id": "DZU4TQ3CbUyt",
        "outputId": "9758baf0-e6ac-4c93-81e2-4acae22eae4f"
      },
      "execution_count": null,
      "outputs": [
        {
          "output_type": "execute_result",
          "data": {
            "text/plain": [
              "{'STU100': 77,\n",
              " 'STU101': 71,\n",
              " 'STU102': 86,\n",
              " 'STU103': 76,\n",
              " 'STU104': 71,\n",
              " 'STU105': 89,\n",
              " 'STU106': 100,\n",
              " 'STU107': 67,\n",
              " 'STU108': 86,\n",
              " 'STU109': 76}"
            ]
          },
          "metadata": {},
          "execution_count": 154
        }
      ]
    },
    {
      "cell_type": "code",
      "source": [
        "print(d1['STU100'])"
      ],
      "metadata": {
        "colab": {
          "base_uri": "https://localhost:8080/"
        },
        "id": "AkH1UKcjhvX_",
        "outputId": "b3df2293-8fa1-4687-9661-1100b044e293"
      },
      "execution_count": null,
      "outputs": [
        {
          "output_type": "stream",
          "name": "stdout",
          "text": [
            "77\n"
          ]
        }
      ]
    },
    {
      "cell_type": "code",
      "source": [
        "d2 = {name:score2 for name, score2 in zip(names, scores2)}\n",
        "d2"
      ],
      "metadata": {
        "colab": {
          "base_uri": "https://localhost:8080/"
        },
        "id": "JADiWoZCh1qR",
        "outputId": "a90c6b90-60d1-4e55-8ef0-836c189efc5f"
      },
      "execution_count": null,
      "outputs": [
        {
          "output_type": "execute_result",
          "data": {
            "text/plain": [
              "{'STU100': 80,\n",
              " 'STU101': 77,\n",
              " 'STU102': 93,\n",
              " 'STU103': 100,\n",
              " 'STU104': 97,\n",
              " 'STU105': 99,\n",
              " 'STU106': 91,\n",
              " 'STU107': 78,\n",
              " 'STU108': 67,\n",
              " 'STU109': 66}"
            ]
          },
          "metadata": {},
          "execution_count": 156
        }
      ]
    },
    {
      "cell_type": "code",
      "source": [
        "for name in d2:\n",
        "    if d2[name] == 99:\n",
        "        print(name)"
      ],
      "metadata": {
        "colab": {
          "base_uri": "https://localhost:8080/"
        },
        "id": "5Qv8dHXsiALW",
        "outputId": "f593d073-11e9-4fc0-a1a2-1868f72536c6"
      },
      "execution_count": null,
      "outputs": [
        {
          "output_type": "stream",
          "name": "stdout",
          "text": [
            "STU105\n"
          ]
        }
      ]
    },
    {
      "cell_type": "code",
      "source": [
        "d3 = {name:[score1, score2] for name, score1, score2 in zip(names, scores1, scores2)}\n",
        "d3"
      ],
      "metadata": {
        "colab": {
          "base_uri": "https://localhost:8080/"
        },
        "id": "aVSP9-Q0iEpS",
        "outputId": "598540d2-7cc2-441f-df83-15e978a384b5"
      },
      "execution_count": null,
      "outputs": [
        {
          "output_type": "execute_result",
          "data": {
            "text/plain": [
              "{'STU100': [77, 80],\n",
              " 'STU101': [71, 77],\n",
              " 'STU102': [86, 93],\n",
              " 'STU103': [76, 100],\n",
              " 'STU104': [71, 97],\n",
              " 'STU105': [89, 99],\n",
              " 'STU106': [100, 91],\n",
              " 'STU107': [67, 78],\n",
              " 'STU108': [86, 67],\n",
              " 'STU109': [76, 66]}"
            ]
          },
          "metadata": {},
          "execution_count": 159
        }
      ]
    },
    {
      "cell_type": "code",
      "source": [
        "students_A = {s:[d3[s][0], d3[s][1]] for s in d3 if d3[s][0] >=80 and d3[s][1] >=80}\n",
        "students_A"
      ],
      "metadata": {
        "colab": {
          "base_uri": "https://localhost:8080/"
        },
        "id": "yJpGW-lBiNzx",
        "outputId": "f994b8fc-8825-4671-832b-07994c93f5fb"
      },
      "execution_count": null,
      "outputs": [
        {
          "output_type": "execute_result",
          "data": {
            "text/plain": [
              "{'STU102': [86, 93], 'STU105': [89, 99], 'STU106': [100, 91]}"
            ]
          },
          "metadata": {},
          "execution_count": 162
        }
      ]
    },
    {
      "cell_type": "code",
      "source": [],
      "metadata": {
        "id": "HgMoe1haiUz9"
      },
      "execution_count": null,
      "outputs": []
    }
  ]
}