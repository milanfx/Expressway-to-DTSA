{
  "nbformat": 4,
  "nbformat_minor": 0,
  "metadata": {
    "colab": {
      "provenance": [],
      "machine_shape": "hm",
      "authorship_tag": "ABX9TyOPxX9PbcEEdoy+q3rTo9SD",
      "include_colab_link": true
    },
    "kernelspec": {
      "name": "python3",
      "display_name": "Python 3"
    },
    "language_info": {
      "name": "python"
    }
  },
  "cells": [
    {
      "cell_type": "markdown",
      "metadata": {
        "id": "view-in-github",
        "colab_type": "text"
      },
      "source": [
        "<a href=\"https://colab.research.google.com/github/milanfx/Expressway-to-DTSA/blob/main/4.%20Data%20Wrangling%20with%20Python/1.%20Data%20Wrangling%20Fundamental/W3_Python_Numpy.ipynb\" target=\"_parent\"><img src=\"https://colab.research.google.com/assets/colab-badge.svg\" alt=\"Open In Colab\"/></a>"
      ]
    },
    {
      "cell_type": "markdown",
      "source": [
        "<table width=\"850\">\n",
        "<td bgcolor=\"#ba2f2a\"><font color=\"white\" size=\"8\"><b>\n",
        "W3 Python Numpy\n",
        "</b></font></td></table>"
      ],
      "metadata": {
        "id": "AaW2h3ZuwlvL"
      }
    },
    {
      "cell_type": "markdown",
      "source": [
        "<table width=\"850\">\n",
        "<td bgcolor=\"#d5695d\"><font color=\"white\" size=\"6\"><b>\n",
        "1. Numpy Basics\n",
        "</b></font></td></table>\n"
      ],
      "metadata": {
        "id": "Y6cWGMF_Ns2o"
      }
    },
    {
      "cell_type": "markdown",
      "source": [
        "<table width=\"850\">\n",
        "<td bgcolor=\"#f8f2e4\"><font color=\"black\" size=\"4\"><b>\n",
        "1.1 Creation\n",
        "</b><br><br>\n",
        "Task:\n",
        "</font></td></table>"
      ],
      "metadata": {
        "id": "PbSvx5mQNs2q"
      }
    },
    {
      "cell_type": "code",
      "source": [
        "import numpy as np"
      ],
      "metadata": {
        "id": "3Q5e2e9OpqeE"
      },
      "execution_count": null,
      "outputs": []
    },
    {
      "cell_type": "code",
      "source": [
        "# list to array\n",
        "ls = [1,2,3,4,5]\n",
        "np.array(ls)"
      ],
      "metadata": {
        "cell_id": "83277c5606414adb964b3569fa1ba24e",
        "source_hash": "c947a46d",
        "execution_start": 1666068364550,
        "execution_millis": 3,
        "deepnote_app_coordinates": {
          "h": 5,
          "w": 12,
          "x": 0,
          "y": 43
        },
        "deepnote_to_be_reexecuted": false,
        "deepnote_cell_type": "code",
        "colab": {
          "base_uri": "https://localhost:8080/"
        },
        "id": "aTqSqpIq8yVc",
        "outputId": "194b8211-74e1-4a3a-9b9c-48e46b9ce1ea"
      },
      "outputs": [
        {
          "output_type": "execute_result",
          "data": {
            "text/plain": [
              "array([1, 2, 3, 4, 5])"
            ]
          },
          "metadata": {},
          "execution_count": 5
        }
      ],
      "execution_count": null
    },
    {
      "cell_type": "code",
      "source": [
        "ar1 = np.arange(10)\n",
        "print('ar1:', ar1)\n",
        "\n",
        "ar2 = np.arange(5,11)\n",
        "print('ar2:', ar2)\n",
        "\n",
        "ar3 = np.arange(0,13,3)\n",
        "print('ar3:', ar3)\n",
        "\n",
        "ar4 = np.arange(4,-4,-1)\n",
        "print('ar4:', ar4)"
      ],
      "metadata": {
        "cell_id": "abd5ee85e61447d584f4ec948f19fab9",
        "source_hash": "fab77601",
        "execution_start": 1666068364552,
        "execution_millis": 3,
        "deepnote_app_coordinates": {
          "h": 5,
          "w": 12,
          "x": 0,
          "y": 67
        },
        "deepnote_to_be_reexecuted": false,
        "deepnote_cell_type": "code",
        "colab": {
          "base_uri": "https://localhost:8080/"
        },
        "id": "RrtmYCl_8yVd",
        "outputId": "2ee8d656-56f2-4774-ecc4-bc8f5aed5b97"
      },
      "outputs": [
        {
          "output_type": "stream",
          "name": "stdout",
          "text": [
            "ar1: [0 1 2 3 4 5 6 7 8 9]\n",
            "ar2: [ 5  6  7  8  9 10]\n",
            "ar3: [ 0  3  6  9 12]\n",
            "ar4: [ 4  3  2  1  0 -1 -2 -3]\n"
          ]
        }
      ],
      "execution_count": null
    },
    {
      "cell_type": "code",
      "source": [
        "ar5 = np.arange(1,5,1)\n",
        "print(ar5, type(ar5[0]))\n",
        "\n",
        "ar6 = np.arange(1,5,.5)\n",
        "print(ar6, type(ar6[0]))\n",
        "\n",
        "ar7 = np.arange(1,5, dtype=float)\n",
        "print(ar7, type(ar7[0]))"
      ],
      "metadata": {
        "cell_id": "68f9be67ae2f40c095412add83f4ee62",
        "scrolled": true,
        "source_hash": "fac9f330",
        "execution_start": 1666068364561,
        "execution_millis": 3,
        "deepnote_app_coordinates": {
          "h": 5,
          "w": 12,
          "x": 0,
          "y": 73
        },
        "deepnote_to_be_reexecuted": false,
        "deepnote_cell_type": "code",
        "colab": {
          "base_uri": "https://localhost:8080/"
        },
        "id": "VFybcQKe8yVd",
        "outputId": "961b87fc-72ea-4f4e-b86b-8a7b2cd721f9"
      },
      "outputs": [
        {
          "output_type": "stream",
          "name": "stdout",
          "text": [
            "[1 2 3 4] <class 'numpy.int64'>\n",
            "[1.  1.5 2.  2.5 3.  3.5 4.  4.5] <class 'numpy.float64'>\n",
            "[1. 2. 3. 4.] <class 'numpy.float64'>\n"
          ]
        }
      ],
      "execution_count": null
    },
    {
      "cell_type": "code",
      "source": [
        "ar = np.array([1,2,3,4,5])\n",
        "ar_type = type(ar)\n",
        "array_size = np.size(ar)\n",
        "array_dimensions = ar.ndim\n",
        "array_data_type = ar.dtype\n",
        "\n",
        "print('''Object type: {}\n",
        "Array size: {},\n",
        "Array dimensions: {},\n",
        "Array data type: {}'''.format(ar_type,\n",
        "                              array_size,\n",
        "                              array_dimensions,\n",
        "                              array_data_type))"
      ],
      "metadata": {
        "cell_id": "7959a1d88a574d14acd18341eef8988a",
        "source_hash": "573451f9",
        "execution_start": 1666068364551,
        "execution_millis": 3,
        "deepnote_app_coordinates": {
          "h": 5,
          "w": 12,
          "x": 0,
          "y": 55
        },
        "deepnote_to_be_reexecuted": false,
        "deepnote_cell_type": "code",
        "colab": {
          "base_uri": "https://localhost:8080/"
        },
        "id": "XFY9vpq-8yVc",
        "outputId": "47a119dc-0123-4850-ca99-a646d02a53b4"
      },
      "outputs": [
        {
          "output_type": "stream",
          "name": "stdout",
          "text": [
            "Object type: <class 'numpy.ndarray'>\n",
            "Array size: 5,\n",
            "Array dimensions: 1,\n",
            "Array data type: int64\n"
          ]
        }
      ],
      "execution_count": null
    },
    {
      "cell_type": "markdown",
      "source": [
        "<table width=\"850\">\n",
        "<td bgcolor=\"#f8f2e4\"><font color=\"black\" size=\"4\"><b>\n",
        "1.2 Ndarray and List\n",
        "</b><br><br>\n",
        "Task:\n",
        "</font></td></table>"
      ],
      "metadata": {
        "id": "k9LJmp8msAxi"
      }
    },
    {
      "cell_type": "code",
      "source": [
        "ls = [x**2 for x in range(10)]\n",
        "ar = np.arange(10) ** 2\n",
        "print(ls)\n",
        "print(ar)"
      ],
      "metadata": {
        "cell_id": "68267f64a3284290a597110d841e4788",
        "scrolled": true,
        "source_hash": "d2b97406",
        "execution_start": 1666068364567,
        "execution_millis": 4,
        "deepnote_app_coordinates": {
          "h": 5,
          "w": 12,
          "x": 0,
          "y": 91
        },
        "deepnote_to_be_reexecuted": false,
        "deepnote_cell_type": "code",
        "colab": {
          "base_uri": "https://localhost:8080/"
        },
        "id": "XEViTNgU8yVe",
        "outputId": "1d7fe86a-a295-4401-f386-b1203f8da921"
      },
      "outputs": [
        {
          "output_type": "stream",
          "name": "stdout",
          "text": [
            "[0, 1, 4, 9, 16, 25, 36, 49, 64, 81]\n",
            "[ 0  1  4  9 16 25 36 49 64 81]\n"
          ]
        }
      ],
      "execution_count": null
    },
    {
      "cell_type": "code",
      "source": [
        "print(ls[:3])\n",
        "print(ar[:3])"
      ],
      "metadata": {
        "colab": {
          "base_uri": "https://localhost:8080/"
        },
        "id": "McLxt-nx-i-z",
        "outputId": "91f2f9c1-fa0b-4d5a-ed54-1cf2ec34da65"
      },
      "execution_count": null,
      "outputs": [
        {
          "output_type": "stream",
          "name": "stdout",
          "text": [
            "[0, 1, 4]\n",
            "[0 1 4]\n"
          ]
        }
      ]
    },
    {
      "cell_type": "code",
      "source": [
        "ls = [1,2,3,4,5]\n",
        "print(ls)\n",
        "print(ls + ls)\n",
        "print(ls * 2)"
      ],
      "metadata": {
        "cell_id": "0021cb5f790c43e0a0c205d5077df2bb",
        "source_hash": "d850577d",
        "execution_start": 1666068364594,
        "execution_millis": 4,
        "deepnote_app_coordinates": {
          "h": 5,
          "w": 12,
          "x": 0,
          "y": 109
        },
        "deepnote_to_be_reexecuted": false,
        "deepnote_cell_type": "code",
        "colab": {
          "base_uri": "https://localhost:8080/"
        },
        "id": "1op_dzM48yVe",
        "outputId": "9d9bc754-efed-449a-ebc0-839d4cd8e805"
      },
      "outputs": [
        {
          "output_type": "stream",
          "name": "stdout",
          "text": [
            "[1, 2, 3, 4, 5]\n",
            "[1, 2, 3, 4, 5, 1, 2, 3, 4, 5]\n",
            "[1, 2, 3, 4, 5, 1, 2, 3, 4, 5]\n"
          ]
        }
      ],
      "execution_count": null
    },
    {
      "cell_type": "code",
      "source": [
        "ar = np.arange(1,6)\n",
        "print(ar)\n",
        "print(ar + ar)\n",
        "print(ar * 2)"
      ],
      "metadata": {
        "cell_id": "5e05c30280ab4d7a884b983be79d0404",
        "scrolled": true,
        "source_hash": "c070be1a",
        "execution_start": 1666068364595,
        "execution_millis": 3,
        "deepnote_app_coordinates": {
          "h": 5,
          "w": 12,
          "x": 0,
          "y": 115
        },
        "deepnote_to_be_reexecuted": false,
        "deepnote_cell_type": "code",
        "colab": {
          "base_uri": "https://localhost:8080/"
        },
        "id": "bhLDoZDC8yVf",
        "outputId": "e6ee1665-2377-4f91-a6f5-3c0ab4b323f0"
      },
      "outputs": [
        {
          "output_type": "stream",
          "name": "stdout",
          "text": [
            "[1 2 3 4 5]\n",
            "[ 2  4  6  8 10]\n",
            "[ 2  4  6  8 10]\n"
          ]
        }
      ],
      "execution_count": null
    },
    {
      "cell_type": "code",
      "source": [
        "s = 2\n",
        "ls = [2,2,2,2,2]\n",
        "ar2 = np.array( [2,2,2,2,2] )\n",
        "\n",
        "print(ar * s)\n",
        "print(ar * ls)\n",
        "print(ar * ar2)\n",
        "\n",
        "print(ar + s)\n",
        "print(ar - s)\n",
        "print(ar / s)\n",
        "print(ar ** s)\n",
        "print(ar ** .5)\n",
        "print(ar % s)"
      ],
      "metadata": {
        "cell_id": "9131de6ecf5142e280f9f8db7d232c1b",
        "scrolled": false,
        "source_hash": "574bd088",
        "execution_start": 1666068364595,
        "execution_millis": 11,
        "deepnote_app_coordinates": {
          "h": 5,
          "w": 12,
          "x": 0,
          "y": 121
        },
        "deepnote_to_be_reexecuted": false,
        "deepnote_cell_type": "code",
        "colab": {
          "base_uri": "https://localhost:8080/"
        },
        "id": "Yn_V89y98yVf",
        "outputId": "68bee913-f521-4cb8-96b8-2b4ca408a0fb"
      },
      "outputs": [
        {
          "output_type": "stream",
          "name": "stdout",
          "text": [
            "[ 2  4  6  8 10]\n",
            "[ 2  4  6  8 10]\n",
            "[ 2  4  6  8 10]\n",
            "[3 4 5 6 7]\n",
            "[-1  0  1  2  3]\n",
            "[0.5 1.  1.5 2.  2.5]\n",
            "[ 1  4  9 16 25]\n",
            "[1.         1.41421356 1.73205081 2.         2.23606798]\n",
            "[1 0 1 0 1]\n"
          ]
        }
      ],
      "execution_count": null
    },
    {
      "cell_type": "markdown",
      "source": [
        "<table width=\"850\">\n",
        "<td bgcolor=\"#f8f2e4\"><font color=\"black\" size=\"4\"><b>\n",
        "1.3 Ndarray and List\n",
        "</b><br><br>\n",
        "Task:\n",
        "</font></td></table>"
      ],
      "metadata": {
        "id": "bcRD2eqoE-lO"
      }
    },
    {
      "cell_type": "code",
      "source": [
        "ar1 = np.arange(1,10)\n",
        "ar2 = np.arange(10,1,-1)\n",
        "ar1, ar2, np.multiply(ar1,ar2)"
      ],
      "metadata": {
        "cell_id": "ab2cec4d50f54b72b638186a3141c3d5",
        "source_hash": "d2e4f158",
        "execution_start": 1666068364678,
        "execution_millis": 4,
        "deepnote_app_coordinates": {
          "h": 5,
          "w": 12,
          "x": 0,
          "y": 181
        },
        "deepnote_to_be_reexecuted": false,
        "deepnote_cell_type": "code",
        "colab": {
          "base_uri": "https://localhost:8080/"
        },
        "id": "5IHEKBdc8yVg",
        "outputId": "76c3f268-1676-433a-8622-f037ad3b16b9"
      },
      "outputs": [
        {
          "output_type": "execute_result",
          "data": {
            "text/plain": [
              "(array([1, 2, 3, 4, 5, 6, 7, 8, 9]),\n",
              " array([10,  9,  8,  7,  6,  5,  4,  3,  2]),\n",
              " array([10, 18, 24, 28, 30, 30, 28, 24, 18]))"
            ]
          },
          "metadata": {},
          "execution_count": 18
        }
      ],
      "execution_count": null
    },
    {
      "cell_type": "code",
      "source": [
        "ar1.dot(ar2)"
      ],
      "metadata": {
        "colab": {
          "base_uri": "https://localhost:8080/"
        },
        "id": "O5MEPbOW_Ebv",
        "outputId": "8e7cee10-db4a-4a4a-d05e-64c655b5f07e"
      },
      "execution_count": null,
      "outputs": [
        {
          "output_type": "execute_result",
          "data": {
            "text/plain": [
              "210"
            ]
          },
          "metadata": {},
          "execution_count": 19
        }
      ]
    },
    {
      "cell_type": "code",
      "source": [
        "ar1@ar2"
      ],
      "metadata": {
        "colab": {
          "base_uri": "https://localhost:8080/"
        },
        "id": "xQZ8ysJaF8Ir",
        "outputId": "c6721c0e-7978-4ffc-c392-0599e6a04d6a"
      },
      "execution_count": null,
      "outputs": [
        {
          "output_type": "execute_result",
          "data": {
            "text/plain": [
              "210"
            ]
          },
          "metadata": {},
          "execution_count": 20
        }
      ]
    },
    {
      "cell_type": "markdown",
      "source": [
        "### Some Examples of Universal Functions"
      ],
      "metadata": {
        "cell_id": "68d043299a4a434088138bcfdf1d3103",
        "deepnote_app_coordinates": {
          "h": 5,
          "w": 12,
          "x": 0,
          "y": 199
        },
        "deepnote_cell_type": "markdown",
        "id": "DHLrfXjV8yVh"
      }
    },
    {
      "cell_type": "code",
      "source": [
        "ar_ints = np.arange(1,6)\n",
        "ar_floats = np.arange(1,7.5,1.5)"
      ],
      "metadata": {
        "cell_id": "76e3e3c293de47848f2b1ef691fbde7b",
        "source_hash": "702a9d00",
        "execution_start": 1666068364680,
        "execution_millis": 0,
        "deepnote_app_coordinates": {
          "h": 5,
          "w": 12,
          "x": 0,
          "y": 205
        },
        "deepnote_to_be_reexecuted": false,
        "deepnote_cell_type": "code",
        "id": "068ysS-u8yVh"
      },
      "outputs": [],
      "execution_count": null
    },
    {
      "cell_type": "code",
      "source": [
        "np.add(ar_ints, ar_floats)"
      ],
      "metadata": {
        "cell_id": "697aa71b191446c88b14f82c7073cc4f",
        "source_hash": "5f2d7a99",
        "execution_start": 1666068364683,
        "execution_millis": 4,
        "deepnote_app_coordinates": {
          "h": 5,
          "w": 12,
          "x": 0,
          "y": 211
        },
        "deepnote_to_be_reexecuted": false,
        "deepnote_cell_type": "code",
        "colab": {
          "base_uri": "https://localhost:8080/"
        },
        "id": "FWxsI6T68yVi",
        "outputId": "67686762-d931-44d4-f37d-4f9fbd4ed7f8"
      },
      "outputs": [
        {
          "output_type": "execute_result",
          "data": {
            "text/plain": [
              "array([ 2. ,  4.5,  7. ,  9.5, 12. ])"
            ]
          },
          "metadata": {},
          "execution_count": 22
        }
      ],
      "execution_count": null
    },
    {
      "cell_type": "code",
      "source": [
        "np.negative(ar_ints)"
      ],
      "metadata": {
        "cell_id": "32fbbb7c3453440d9ef2b5d5ee12f5c4",
        "source_hash": "a9d1a896",
        "execution_start": 1666068364689,
        "execution_millis": 4,
        "deepnote_app_coordinates": {
          "h": 5,
          "w": 12,
          "x": 0,
          "y": 217
        },
        "deepnote_to_be_reexecuted": false,
        "deepnote_cell_type": "code",
        "colab": {
          "base_uri": "https://localhost:8080/"
        },
        "id": "CbUTKFv28yVi",
        "outputId": "441ab19a-aa70-48ce-82d0-eeee5e4bdd87"
      },
      "outputs": [
        {
          "output_type": "execute_result",
          "data": {
            "text/plain": [
              "array([-1, -2, -3, -4, -5])"
            ]
          },
          "metadata": {},
          "execution_count": 23
        }
      ],
      "execution_count": null
    },
    {
      "cell_type": "code",
      "source": [
        "np.square(ar_ints)"
      ],
      "metadata": {
        "cell_id": "ce8e72c8614e45298ad66aadd497d05c",
        "scrolled": true,
        "source_hash": "6bfeef96",
        "execution_start": 1666068364693,
        "execution_millis": 3,
        "deepnote_app_coordinates": {
          "h": 5,
          "w": 12,
          "x": 0,
          "y": 223
        },
        "deepnote_to_be_reexecuted": false,
        "deepnote_cell_type": "code",
        "colab": {
          "base_uri": "https://localhost:8080/"
        },
        "id": "5udmUznt8yVi",
        "outputId": "4e47897a-943b-4d11-c39a-ab5bc8f0967f"
      },
      "outputs": [
        {
          "output_type": "execute_result",
          "data": {
            "text/plain": [
              "array([ 1,  4,  9, 16, 25])"
            ]
          },
          "metadata": {},
          "execution_count": 24
        }
      ],
      "execution_count": null
    },
    {
      "cell_type": "code",
      "source": [
        "np.hypot(ar_ints, ar_ints)"
      ],
      "metadata": {
        "cell_id": "a519cecf2f0649bda665b9a1f94a53a1",
        "scrolled": false,
        "source_hash": "6cb91c87",
        "execution_start": 1666068364738,
        "execution_millis": 1,
        "deepnote_app_coordinates": {
          "h": 5,
          "w": 12,
          "x": 0,
          "y": 229
        },
        "deepnote_to_be_reexecuted": false,
        "deepnote_cell_type": "code",
        "colab": {
          "base_uri": "https://localhost:8080/"
        },
        "id": "TTz47OTm8yVi",
        "outputId": "25816727-c11a-435e-ce63-3e8cc3e19b91"
      },
      "outputs": [
        {
          "output_type": "execute_result",
          "data": {
            "text/plain": [
              "array([1.41421356, 2.82842712, 4.24264069, 5.65685425, 7.07106781])"
            ]
          },
          "metadata": {},
          "execution_count": 25
        }
      ],
      "execution_count": null
    },
    {
      "cell_type": "code",
      "source": [
        "np.greater(ar_ints, ar_floats)"
      ],
      "metadata": {
        "cell_id": "32a58444fe184403ad49eb1144d5401f",
        "scrolled": true,
        "source_hash": "61d1eb05",
        "execution_start": 1666068364783,
        "execution_millis": 2,
        "deepnote_app_coordinates": {
          "h": 5,
          "w": 12,
          "x": 0,
          "y": 235
        },
        "deepnote_to_be_reexecuted": false,
        "deepnote_cell_type": "code",
        "colab": {
          "base_uri": "https://localhost:8080/"
        },
        "id": "L6z3dxIf8yVi",
        "outputId": "b2d22dbd-fa49-4b9a-8e0d-b7f04219739e"
      },
      "outputs": [
        {
          "output_type": "execute_result",
          "data": {
            "text/plain": [
              "array([False, False, False, False, False])"
            ]
          },
          "metadata": {},
          "execution_count": 26
        }
      ],
      "execution_count": null
    },
    {
      "cell_type": "code",
      "source": [
        "np.ceil(ar_floats)"
      ],
      "metadata": {
        "cell_id": "602828c0e74c4738a4a1f37df902ef8d",
        "source_hash": "eee6aec5",
        "execution_start": 1666068364783,
        "execution_millis": 2,
        "deepnote_app_coordinates": {
          "h": 5,
          "w": 12,
          "x": 0,
          "y": 241
        },
        "deepnote_to_be_reexecuted": false,
        "deepnote_cell_type": "code",
        "colab": {
          "base_uri": "https://localhost:8080/"
        },
        "id": "GjMO0UDA8yVj",
        "outputId": "52b17643-fdfc-4e17-8ebd-85bbdabec31b"
      },
      "outputs": [
        {
          "output_type": "execute_result",
          "data": {
            "text/plain": [
              "array([1., 3., 4., 6., 7.])"
            ]
          },
          "metadata": {},
          "execution_count": 27
        }
      ],
      "execution_count": null
    },
    {
      "cell_type": "markdown",
      "source": [
        "<table width=\"850\">\n",
        "<td bgcolor=\"#f8f2e4\"><font color=\"black\" size=\"4\"><b>\n",
        "1.4 Statistics\n",
        "</b><br><br>\n",
        "Task:\n",
        "</font></td></table>"
      ],
      "metadata": {
        "id": "bLP2fPAqFGVx"
      }
    },
    {
      "cell_type": "code",
      "source": [
        "ar3 = np.random.randint(0, 10, (10))\n",
        "ar3"
      ],
      "metadata": {
        "colab": {
          "base_uri": "https://localhost:8080/"
        },
        "id": "ptaQYZspIIxH",
        "outputId": "ccac0536-b716-44ec-f15c-f9187e775031"
      },
      "execution_count": null,
      "outputs": [
        {
          "output_type": "execute_result",
          "data": {
            "text/plain": [
              "array([5, 2, 4, 8, 3, 1, 6, 9, 3, 8])"
            ]
          },
          "metadata": {},
          "execution_count": 28
        }
      ]
    },
    {
      "cell_type": "code",
      "source": [
        "ar3.sum(),ar3.mean(), ar3.std(), ar3.var(), ar3.max(), ar3.min()"
      ],
      "metadata": {
        "colab": {
          "base_uri": "https://localhost:8080/"
        },
        "id": "lafa_AKeIoec",
        "outputId": "2715a65d-1940-41b6-905a-e2ce4b9d12ea"
      },
      "execution_count": null,
      "outputs": [
        {
          "output_type": "execute_result",
          "data": {
            "text/plain": [
              "(49, 4.9, 2.6248809496813377, 6.890000000000001, 9, 1)"
            ]
          },
          "metadata": {},
          "execution_count": 29
        }
      ]
    },
    {
      "cell_type": "markdown",
      "source": [
        "<table width=\"850\">\n",
        "<td bgcolor=\"#d5695d\"><font color=\"white\" size=\"6\"><b>\n",
        "2. Multi-dimensional Arrays\n",
        "</b></font></td></table>\n"
      ],
      "metadata": {
        "id": "j95fR4mAFzHP"
      }
    },
    {
      "cell_type": "markdown",
      "source": [
        "<table width=\"850\">\n",
        "<td bgcolor=\"#f8f2e4\"><font color=\"black\" size=\"4\"><b>\n",
        "2.1 Creation and Access\n",
        "</b><br><br>\n",
        "Task:\n",
        "</font></td></table>"
      ],
      "metadata": {
        "id": "hGRxJGbDFzHQ"
      }
    },
    {
      "cell_type": "code",
      "source": [
        "mda = np.array([\n",
        "        [1, 2, 3],\n",
        "        [4, 5, 6],\n",
        "        [7, 8, 9]])\n",
        "\n",
        "print('Num dimensions: ', mda.ndim)\n",
        "print('Second row: ', mda[1, :])\n",
        "print('Second column: ', mda[:, 1]) #short hand\n",
        "print('2nd element in 2nd row:', mda[1, 1])"
      ],
      "metadata": {
        "cell_id": "dd8e8658fea34714bdd776680fd85bfd",
        "scrolled": true,
        "source_hash": "8b18dfd5",
        "execution_start": 1666068900310,
        "deepnote_app_coordinates": {
          "h": 5,
          "w": 12,
          "x": 0,
          "y": 13
        },
        "deepnote_to_be_reexecuted": false,
        "deepnote_cell_type": "code",
        "id": "qdw397UT_qR0",
        "outputId": "4a92fa07-42f8-4405-9fd1-83a6704e458a",
        "colab": {
          "base_uri": "https://localhost:8080/"
        }
      },
      "outputs": [
        {
          "output_type": "stream",
          "name": "stdout",
          "text": [
            "Num dimensions:  2\n",
            "Second row:  [4 5 6]\n",
            "Second column:  [2 5 8]\n",
            "2nd element in 2nd row: 5\n"
          ]
        }
      ],
      "execution_count": null
    },
    {
      "cell_type": "code",
      "source": [
        "mda.size"
      ],
      "metadata": {
        "cell_id": "b71fabaedcce4b8a95030d7578716056",
        "source_hash": "2beac313",
        "execution_start": 1666068900464,
        "execution_millis": 3,
        "deepnote_app_coordinates": {
          "h": 5,
          "w": 12,
          "x": 0,
          "y": 163
        },
        "deepnote_to_be_reexecuted": false,
        "deepnote_cell_type": "code",
        "id": "om9f1zCj_qR-",
        "outputId": "3612c183-d9f5-4d3a-b208-7e4a7506fae4",
        "colab": {
          "base_uri": "https://localhost:8080/"
        }
      },
      "outputs": [
        {
          "output_type": "execute_result",
          "data": {
            "text/plain": [
              "9"
            ]
          },
          "metadata": {},
          "execution_count": 35
        }
      ],
      "execution_count": null
    },
    {
      "cell_type": "code",
      "source": [
        "mda.shape"
      ],
      "metadata": {
        "cell_id": "8250eda056d14eebba2019d5dab34047",
        "source_hash": "eb397514",
        "execution_start": 1666068900469,
        "execution_millis": 2,
        "deepnote_app_coordinates": {
          "h": 5,
          "w": 12,
          "x": 0,
          "y": 181
        },
        "deepnote_to_be_reexecuted": false,
        "deepnote_cell_type": "code",
        "id": "AiKOzND2_qR-",
        "outputId": "b6e939e2-a1bd-434f-e174-1cd8922e4224",
        "colab": {
          "base_uri": "https://localhost:8080/"
        }
      },
      "outputs": [
        {
          "output_type": "execute_result",
          "data": {
            "text/plain": [
              "(3, 3)"
            ]
          },
          "metadata": {},
          "execution_count": 36
        }
      ],
      "execution_count": null
    },
    {
      "cell_type": "code",
      "source": [
        "# Cell\n",
        "row3cell2 = mda[2,1]\n",
        "row3cell2"
      ],
      "metadata": {
        "cell_id": "6f3702882e7e411788699ccae4da0c90",
        "scrolled": true,
        "source_hash": "7605cf13",
        "execution_start": 1666068900351,
        "execution_millis": 3,
        "deepnote_app_coordinates": {
          "h": 5,
          "w": 12,
          "x": 0,
          "y": 43
        },
        "deepnote_to_be_reexecuted": false,
        "deepnote_cell_type": "code",
        "id": "kyVuxKvN_qR3",
        "outputId": "822db13d-1e9a-457b-d16e-283b925c2245",
        "colab": {
          "base_uri": "https://localhost:8080/"
        }
      },
      "outputs": [
        {
          "output_type": "execute_result",
          "data": {
            "text/plain": [
              "8"
            ]
          },
          "metadata": {},
          "execution_count": 47
        }
      ],
      "execution_count": null
    },
    {
      "cell_type": "code",
      "source": [
        "# Row\n",
        "row2 = mda[1,:]\n",
        "row2, type(row2), row2.ndim"
      ],
      "metadata": {
        "cell_id": "73da04ac91394010ab76a0b5e10c6a2a",
        "source_hash": "41f31e46",
        "execution_start": 1666068900314,
        "execution_millis": 5,
        "deepnote_app_coordinates": {
          "h": 5,
          "w": 12,
          "x": 0,
          "y": 25
        },
        "deepnote_to_be_reexecuted": false,
        "deepnote_cell_type": "code",
        "id": "P9g-7iRH_qR2",
        "outputId": "f8f5580b-432b-46ec-a0cd-a0359e23803f",
        "colab": {
          "base_uri": "https://localhost:8080/"
        }
      },
      "outputs": [
        {
          "output_type": "execute_result",
          "data": {
            "text/plain": [
              "(array([4, 5, 6]), numpy.ndarray, 1)"
            ]
          },
          "metadata": {},
          "execution_count": 43
        }
      ],
      "execution_count": null
    },
    {
      "cell_type": "code",
      "source": [
        "# Column\n",
        "col2 = mda[:,1]\n",
        "col2, type(col2), col2.ndim"
      ],
      "metadata": {
        "cell_id": "dbe82d430fc642f5a2d98f3752c01095",
        "scrolled": true,
        "source_hash": "b91f5b7b",
        "execution_start": 1666068900358,
        "execution_millis": 2,
        "deepnote_app_coordinates": {
          "h": 5,
          "w": 12,
          "x": 0,
          "y": 73
        },
        "deepnote_to_be_reexecuted": false,
        "deepnote_cell_type": "code",
        "id": "7jgZ-K6z_qR5",
        "outputId": "c7ff887d-ab02-4987-9133-57970bce4514",
        "colab": {
          "base_uri": "https://localhost:8080/"
        }
      },
      "outputs": [
        {
          "output_type": "execute_result",
          "data": {
            "text/plain": [
              "(array([2, 5, 8]), numpy.ndarray, 1)"
            ]
          },
          "metadata": {},
          "execution_count": 45
        }
      ],
      "execution_count": null
    },
    {
      "cell_type": "code",
      "source": [
        "cols2and3 = mda[:,1:3]\n",
        "cols2and3"
      ],
      "metadata": {
        "cell_id": "00dd9d3c3fcc45d99af79c2447c097b9",
        "source_hash": "5681d827",
        "execution_start": 1666068900372,
        "execution_millis": 7,
        "deepnote_app_coordinates": {
          "h": 5,
          "w": 12,
          "x": 0,
          "y": 85
        },
        "deepnote_to_be_reexecuted": false,
        "deepnote_cell_type": "code",
        "id": "PrvHy0-S_qR5",
        "outputId": "15013277-c927-444f-8a66-ff8c1bc75e2a",
        "colab": {
          "base_uri": "https://localhost:8080/"
        }
      },
      "outputs": [
        {
          "output_type": "execute_result",
          "data": {
            "text/plain": [
              "array([[2, 3],\n",
              "       [5, 6],\n",
              "       [8, 9]])"
            ]
          },
          "metadata": {},
          "execution_count": 50
        }
      ],
      "execution_count": null
    },
    {
      "cell_type": "code",
      "source": [
        "cols2and3 = mda[:,-2:]\n",
        "cols2and3"
      ],
      "metadata": {
        "cell_id": "1410b09d61b84231834a6c41f2c890b3",
        "source_hash": "f87a9a77",
        "execution_start": 1666068900373,
        "execution_millis": 7,
        "deepnote_app_coordinates": {
          "h": 5,
          "w": 12,
          "x": 0,
          "y": 91
        },
        "deepnote_to_be_reexecuted": false,
        "deepnote_cell_type": "code",
        "id": "6tRfnTOQ_qR6",
        "outputId": "5757aa4e-f8a0-4784-a391-5cd5910cb118",
        "colab": {
          "base_uri": "https://localhost:8080/"
        }
      },
      "outputs": [
        {
          "output_type": "execute_result",
          "data": {
            "text/plain": [
              "array([[2, 3],\n",
              "       [5, 6],\n",
              "       [8, 9]])"
            ]
          },
          "metadata": {},
          "execution_count": 58
        }
      ],
      "execution_count": null
    },
    {
      "cell_type": "markdown",
      "source": [
        "<table width=\"850\">\n",
        "<td bgcolor=\"#f8f2e4\"><font color=\"black\" size=\"4\"><b>\n",
        "2.2 Manipulation\n",
        "</b><br><br>\n",
        "Task:\n",
        "</font></td></table>"
      ],
      "metadata": {
        "id": "QIOYIbkkPPQv"
      }
    },
    {
      "cell_type": "code",
      "source": [
        "# Add value\n",
        "print(mda)\n",
        "print('-' * 20)\n",
        "mda[-2:, -2:] += 2\n",
        "print(mda)"
      ],
      "metadata": {
        "cell_id": "a5abf153d3e44e7493b2529b839faf5b",
        "scrolled": false,
        "source_hash": "26bcb9f1",
        "execution_start": 1666068900374,
        "execution_millis": 6,
        "deepnote_app_coordinates": {
          "h": 5,
          "w": 12,
          "x": 0,
          "y": 103
        },
        "deepnote_to_be_reexecuted": false,
        "deepnote_cell_type": "code",
        "id": "plqu8kmS_qR6",
        "outputId": "a3b52d75-91b4-4c71-a51d-0a4286ef572d",
        "colab": {
          "base_uri": "https://localhost:8080/"
        }
      },
      "outputs": [
        {
          "output_type": "stream",
          "name": "stdout",
          "text": [
            "[[1 2 3]\n",
            " [4 5 6]\n",
            " [7 8 9]]\n",
            "--------------------\n",
            "[[ 1  2  3]\n",
            " [ 4  7  8]\n",
            " [ 7 10 11]]\n"
          ]
        }
      ],
      "execution_count": null
    },
    {
      "cell_type": "code",
      "source": [
        "# Add Vector\n",
        "mda = np.array([\n",
        "        [1, 2, 3],\n",
        "        [4, 5, 6],\n",
        "        [7, 8, 9]\n",
        "    ])\n",
        "v = [10, 20, 30]\n",
        "print(mda + v)"
      ],
      "metadata": {
        "cell_id": "8984655024c444469b5ed04a5324cb3e",
        "scrolled": true,
        "source_hash": "804f758e",
        "execution_start": 1666068900382,
        "execution_millis": 3,
        "deepnote_app_coordinates": {
          "h": 5,
          "w": 12,
          "x": 0,
          "y": 115
        },
        "deepnote_to_be_reexecuted": false,
        "deepnote_cell_type": "code",
        "id": "ZmihjKYT_qR7",
        "outputId": "cd53552c-4af0-4e59-a204-cb5a7187da12",
        "colab": {
          "base_uri": "https://localhost:8080/"
        }
      },
      "outputs": [
        {
          "output_type": "stream",
          "name": "stdout",
          "text": [
            "[[11 22 33]\n",
            " [14 25 36]\n",
            " [17 28 39]]\n"
          ]
        }
      ],
      "execution_count": null
    },
    {
      "cell_type": "code",
      "source": [
        "ar1 = np.zeros(shape=(6,3), dtype=float)\n",
        "ar1"
      ],
      "metadata": {
        "cell_id": "b1f7014b82384039b80c375662400c18",
        "source_hash": "90265045",
        "execution_start": 1666068900383,
        "execution_millis": 2,
        "deepnote_app_coordinates": {
          "h": 5,
          "w": 12,
          "x": 0,
          "y": 127
        },
        "deepnote_to_be_reexecuted": false,
        "deepnote_cell_type": "code",
        "id": "I0xM9Edv_qR8",
        "outputId": "e714c667-aa11-4a46-cd43-914da17f151e",
        "colab": {
          "base_uri": "https://localhost:8080/"
        }
      },
      "outputs": [
        {
          "output_type": "execute_result",
          "data": {
            "text/plain": [
              "array([[0., 0., 0.],\n",
              "       [0., 0., 0.],\n",
              "       [0., 0., 0.],\n",
              "       [0., 0., 0.],\n",
              "       [0., 0., 0.],\n",
              "       [0., 0., 0.]])"
            ]
          },
          "metadata": {},
          "execution_count": 59
        }
      ],
      "execution_count": null
    },
    {
      "cell_type": "code",
      "source": [
        "ar2 = ar1.reshape(2,-1)\n",
        "ar2"
      ],
      "metadata": {
        "cell_id": "4d937b78281840ceb252e39af9ee2674",
        "source_hash": "e66770d0",
        "execution_start": 1666068900384,
        "execution_millis": 6,
        "deepnote_app_coordinates": {
          "h": 5,
          "w": 12,
          "x": 0,
          "y": 133
        },
        "deepnote_to_be_reexecuted": false,
        "deepnote_cell_type": "code",
        "id": "frbFm8Uz_qR8",
        "outputId": "9c3b601b-7cf0-452f-d39e-668ffa8a1d9b",
        "colab": {
          "base_uri": "https://localhost:8080/"
        }
      },
      "outputs": [
        {
          "output_type": "execute_result",
          "data": {
            "text/plain": [
              "array([[0., 0., 0., 0., 0., 0., 0., 0., 0.],\n",
              "       [0., 0., 0., 0., 0., 0., 0., 0., 0.]])"
            ]
          },
          "metadata": {},
          "execution_count": 62
        }
      ],
      "execution_count": null
    },
    {
      "cell_type": "code",
      "source": [
        "ar3 = ar2.reshape(-1,2)\n",
        "ar3"
      ],
      "metadata": {
        "cell_id": "57f4a49136754254978e9af53dd2bb24",
        "source_hash": "ea533905",
        "execution_start": 1666068900390,
        "execution_millis": 2,
        "deepnote_app_coordinates": {
          "h": 5,
          "w": 12,
          "x": 0,
          "y": 139
        },
        "deepnote_to_be_reexecuted": false,
        "deepnote_cell_type": "code",
        "id": "8fyeGkOO_qR8",
        "outputId": "cb0b3302-a123-4e94-a372-366fa92bf2e0",
        "colab": {
          "base_uri": "https://localhost:8080/"
        }
      },
      "outputs": [
        {
          "output_type": "execute_result",
          "data": {
            "text/plain": [
              "array([[0., 0.],\n",
              "       [0., 0.],\n",
              "       [0., 0.],\n",
              "       [0., 0.],\n",
              "       [0., 0.],\n",
              "       [0., 0.],\n",
              "       [0., 0.],\n",
              "       [0., 0.],\n",
              "       [0., 0.]])"
            ]
          },
          "metadata": {},
          "execution_count": 63
        }
      ],
      "execution_count": null
    },
    {
      "cell_type": "code",
      "source": [
        "ar4 = np.linspace(4, 6, 5)\n",
        "ar4"
      ],
      "metadata": {
        "cell_id": "24473f4ac79a48658832f6d977e91348",
        "source_hash": "5d62fd58",
        "execution_start": 1666068900392,
        "execution_millis": 3,
        "deepnote_app_coordinates": {
          "h": 5,
          "w": 12,
          "x": 0,
          "y": 145
        },
        "deepnote_to_be_reexecuted": false,
        "deepnote_cell_type": "code",
        "id": "TfpUsX9Z_qR9",
        "outputId": "f138e76f-fb84-458d-c4cd-56f2416c7e0d",
        "colab": {
          "base_uri": "https://localhost:8080/"
        }
      },
      "outputs": [
        {
          "output_type": "execute_result",
          "data": {
            "text/plain": [
              "array([4. , 4.5, 5. , 5.5, 6. ])"
            ]
          },
          "metadata": {},
          "execution_count": 64
        }
      ],
      "execution_count": null
    },
    {
      "cell_type": "code",
      "source": [
        "ar5 = np.arange(1, 7).reshape(2, 3)\n",
        "ar6 = np.arange(7, 13).reshape(2, 3)\n",
        "ar5, ar6"
      ],
      "metadata": {
        "colab": {
          "base_uri": "https://localhost:8080/"
        },
        "id": "MexDpA8fG3hW",
        "outputId": "f8148bdf-3c09-46f0-de38-592b8438847b"
      },
      "execution_count": null,
      "outputs": [
        {
          "output_type": "execute_result",
          "data": {
            "text/plain": [
              "(array([[1, 2, 3],\n",
              "        [4, 5, 6]]),\n",
              " array([[ 7,  8,  9],\n",
              "        [10, 11, 12]]))"
            ]
          },
          "metadata": {},
          "execution_count": 65
        }
      ]
    },
    {
      "cell_type": "code",
      "source": [
        "ar5 + ar6"
      ],
      "metadata": {
        "colab": {
          "base_uri": "https://localhost:8080/"
        },
        "id": "AsNma_9zHQZe",
        "outputId": "a50dfb8b-19ab-4712-f61d-91eff8cc8bd6"
      },
      "execution_count": null,
      "outputs": [
        {
          "output_type": "execute_result",
          "data": {
            "text/plain": [
              "array([[ 8, 10, 12],\n",
              "       [14, 16, 18]])"
            ]
          },
          "metadata": {},
          "execution_count": 66
        }
      ]
    },
    {
      "cell_type": "code",
      "source": [
        "ar5 * ar6"
      ],
      "metadata": {
        "colab": {
          "base_uri": "https://localhost:8080/"
        },
        "id": "C5Tj4qQvHSQR",
        "outputId": "627cb308-c9f9-4089-ca0a-712ed08452f6"
      },
      "execution_count": null,
      "outputs": [
        {
          "output_type": "execute_result",
          "data": {
            "text/plain": [
              "array([[ 7, 16, 27],\n",
              "       [40, 55, 72]])"
            ]
          },
          "metadata": {},
          "execution_count": 67
        }
      ]
    },
    {
      "cell_type": "code",
      "source": [
        "ar5.T"
      ],
      "metadata": {
        "colab": {
          "base_uri": "https://localhost:8080/"
        },
        "id": "Z316aUyGHY4R",
        "outputId": "3715d111-e013-44ee-be7f-61f40103ab25"
      },
      "execution_count": null,
      "outputs": [
        {
          "output_type": "execute_result",
          "data": {
            "text/plain": [
              "array([[1, 4],\n",
              "       [2, 5],\n",
              "       [3, 6]])"
            ]
          },
          "metadata": {},
          "execution_count": 68
        }
      ]
    },
    {
      "cell_type": "code",
      "source": [
        "ar5.T@ar6"
      ],
      "metadata": {
        "colab": {
          "base_uri": "https://localhost:8080/"
        },
        "id": "-N2OjK58HbWP",
        "outputId": "f01d27b4-e3c7-45ed-858a-c0ec04fcc792"
      },
      "execution_count": null,
      "outputs": [
        {
          "output_type": "execute_result",
          "data": {
            "text/plain": [
              "array([[47, 52, 57],\n",
              "       [64, 71, 78],\n",
              "       [81, 90, 99]])"
            ]
          },
          "metadata": {},
          "execution_count": 69
        }
      ]
    },
    {
      "cell_type": "code",
      "source": [
        "ar5.T.dot(ar6)"
      ],
      "metadata": {
        "colab": {
          "base_uri": "https://localhost:8080/"
        },
        "id": "QgnycqhQHeZM",
        "outputId": "9c86a461-30bc-43cc-f081-e6806f21e4be"
      },
      "execution_count": null,
      "outputs": [
        {
          "output_type": "execute_result",
          "data": {
            "text/plain": [
              "array([[47, 52, 57],\n",
              "       [64, 71, 78],\n",
              "       [81, 90, 99]])"
            ]
          },
          "metadata": {},
          "execution_count": 70
        }
      ]
    },
    {
      "cell_type": "code",
      "source": [
        "ar6@ar5.T"
      ],
      "metadata": {
        "colab": {
          "base_uri": "https://localhost:8080/"
        },
        "id": "T7i2Yr23HiJu",
        "outputId": "d35788af-2f80-4756-a3e0-dcdf67bf9934"
      },
      "execution_count": null,
      "outputs": [
        {
          "output_type": "execute_result",
          "data": {
            "text/plain": [
              "array([[ 50, 122],\n",
              "       [ 68, 167]])"
            ]
          },
          "metadata": {},
          "execution_count": 71
        }
      ]
    },
    {
      "cell_type": "markdown",
      "source": [
        "<table width=\"850\">\n",
        "<td bgcolor=\"#d5695d\"><font color=\"white\" size=\"6\"><b>\n",
        "3. Numpy Mask ---- Boolean Arrays\n",
        "</b></font></td></table>\n"
      ],
      "metadata": {
        "id": "hWBbVfH8Xgp0"
      }
    },
    {
      "cell_type": "markdown",
      "source": [
        "<table width=\"850\">\n",
        "<td bgcolor=\"#f8f2e4\"><font color=\"black\" size=\"4\"><b>\n",
        "3.1 Boolean Arrays\n",
        "</b><br><br>\n",
        "Task:\n",
        "</font></td></table>"
      ],
      "metadata": {
        "id": "aRR59plQXgqW"
      }
    },
    {
      "cell_type": "code",
      "source": [
        "np.random.seed(1)\n",
        "ar = np.random.randint(100, size=10)\n",
        "ar"
      ],
      "metadata": {
        "cell_id": "91384c80599440f4a5f50cb156beea63",
        "source_hash": "792bfb92",
        "execution_start": 1666068789667,
        "execution_millis": 7,
        "deepnote_cell_height": 148,
        "deepnote_output_heights": [
          20
        ],
        "deepnote_to_be_reexecuted": false,
        "deepnote_cell_type": "code",
        "colab": {
          "base_uri": "https://localhost:8080/"
        },
        "id": "UdhKHEY3_1df",
        "outputId": "e6b96489-2467-49dc-b017-0bc82ef002d7"
      },
      "outputs": [
        {
          "output_type": "execute_result",
          "data": {
            "text/plain": [
              "array([37, 12, 72,  9, 75,  5, 79, 64, 16,  1])"
            ]
          },
          "metadata": {},
          "execution_count": 72
        }
      ],
      "execution_count": null
    },
    {
      "cell_type": "code",
      "source": [
        "# Odd\n",
        "ar[ar % 2 == 1]"
      ],
      "metadata": {
        "cell_id": "b3a7c5730e4c458d8b98a5e38124c94c",
        "source_hash": "749c21b2",
        "execution_start": 1666068789677,
        "execution_millis": 4,
        "deepnote_cell_height": 112,
        "deepnote_output_heights": [
          20
        ],
        "deepnote_to_be_reexecuted": false,
        "deepnote_cell_type": "code",
        "colab": {
          "base_uri": "https://localhost:8080/"
        },
        "id": "gu_327vz_1dg",
        "outputId": "8e954790-5af8-49a9-9687-464246cf515e"
      },
      "outputs": [
        {
          "output_type": "execute_result",
          "data": {
            "text/plain": [
              "array([71, 25, 11, 29, 87, 87, 13,  9,  7, 63, 61, 57,  1, 81, 13, 47, 71,\n",
              "        3, 21, 49, 57,  3, 43, 41, 15, 25, 87,  7, 25,  9, 67, 23, 27, 37,\n",
              "       57, 83, 23, 15, 87, 25, 71, 23, 55, 65, 77,  3, 77, 85, 91, 21])"
            ]
          },
          "metadata": {},
          "execution_count": 77
        }
      ],
      "execution_count": null
    },
    {
      "cell_type": "code",
      "source": [
        "ar = np.random.randint(100, size = (10, 10))\n",
        "ar"
      ],
      "metadata": {
        "colab": {
          "base_uri": "https://localhost:8080/"
        },
        "id": "VtV97ZF__6F7",
        "outputId": "2e68bfa9-963b-46b8-cf45-25d313feb6a6"
      },
      "execution_count": null,
      "outputs": [
        {
          "output_type": "execute_result",
          "data": {
            "text/plain": [
              "array([[76, 71,  6, 25, 50, 20, 18, 84, 11, 28],\n",
              "       [29, 14, 50, 68, 87, 87, 94, 96, 86, 13],\n",
              "       [ 9,  7, 63, 61, 22, 57,  1,  0, 60, 81],\n",
              "       [ 8, 88, 13, 47, 72, 30, 71,  3, 70, 21],\n",
              "       [49, 57,  3, 68, 24, 43, 76, 26, 52, 80],\n",
              "       [41, 82, 15, 64, 68, 25, 98, 87,  7, 26],\n",
              "       [25, 22,  9, 67, 23, 27, 37, 57, 83, 38],\n",
              "       [ 8, 32, 34, 10, 23, 15, 87, 25, 71, 92],\n",
              "       [74, 62, 46, 32, 88, 23, 55, 65, 77,  3],\n",
              "       [ 0, 77,  6, 52, 85, 70,  2, 76, 91, 21]])"
            ]
          },
          "metadata": {},
          "execution_count": 76
        }
      ]
    },
    {
      "cell_type": "code",
      "source": [
        "# Even\n",
        "ar[ar % 2 == 0]"
      ],
      "metadata": {
        "colab": {
          "base_uri": "https://localhost:8080/"
        },
        "id": "gkWKZZMBAJuu",
        "outputId": "e9506ee8-1920-4d4a-c1d5-af9c1dab5008"
      },
      "execution_count": null,
      "outputs": [
        {
          "output_type": "execute_result",
          "data": {
            "text/plain": [
              "array([76,  6, 50, 20, 18, 84, 28, 14, 50, 68, 94, 96, 86, 22,  0, 60,  8,\n",
              "       88, 72, 30, 70, 68, 24, 76, 26, 52, 80, 82, 64, 68, 98, 26, 22, 38,\n",
              "        8, 32, 34, 10, 92, 74, 62, 46, 32, 88,  0,  6, 52, 70,  2, 76])"
            ]
          },
          "metadata": {},
          "execution_count": 79
        }
      ]
    },
    {
      "cell_type": "code",
      "source": [
        "# <50\n",
        "ar[ar < 50]"
      ],
      "metadata": {
        "colab": {
          "base_uri": "https://localhost:8080/"
        },
        "id": "PVrktFNQAPPD",
        "outputId": "7b16d9ea-591c-4550-fb2d-81b3f147bd3c"
      },
      "execution_count": null,
      "outputs": [
        {
          "output_type": "execute_result",
          "data": {
            "text/plain": [
              "array([ 6, 25, 20, 18, 11, 28, 29, 14, 13,  9,  7, 22,  1,  0,  8, 13, 47,\n",
              "       30,  3, 21, 49,  3, 24, 43, 26, 41, 15, 25,  7, 26, 25, 22,  9, 23,\n",
              "       27, 37, 38,  8, 32, 34, 10, 23, 15, 25, 46, 32, 23,  3,  0,  6,  2,\n",
              "       21])"
            ]
          },
          "metadata": {},
          "execution_count": 80
        }
      ]
    },
    {
      "cell_type": "code",
      "source": [
        "ar2 = np.random.randint(100, size = (10, 10))\n",
        "ar2"
      ],
      "metadata": {
        "colab": {
          "base_uri": "https://localhost:8080/"
        },
        "id": "XCz_fhopARxX",
        "outputId": "e31d3c2a-cefb-48be-cdca-11e24af27a7e"
      },
      "execution_count": null,
      "outputs": [
        {
          "output_type": "execute_result",
          "data": {
            "text/plain": [
              "array([[46,  0, 29, 63, 75, 35, 53, 93, 33,  2],\n",
              "       [84, 83, 48, 54, 32, 28, 55, 82, 31, 28],\n",
              "       [94, 74,  8, 99, 32,  8, 84, 77, 50, 79],\n",
              "       [41, 64, 83, 24, 20, 44, 15, 30, 91, 14],\n",
              "       [19, 26, 86,  7, 99, 53, 47, 60, 34, 32],\n",
              "       [19, 67, 24, 83, 94, 38, 47,  5, 79, 63],\n",
              "       [87, 32, 42, 74, 66, 88, 98, 30, 17, 68],\n",
              "       [64, 60, 78, 17, 39, 35, 81, 28, 22, 38],\n",
              "       [41, 74, 77, 70, 25, 48, 50, 62, 44, 54],\n",
              "       [ 0, 86, 16, 19,  9, 92, 51, 10, 68, 23]])"
            ]
          },
          "metadata": {},
          "execution_count": 82
        }
      ]
    },
    {
      "cell_type": "code",
      "source": [
        "ar[ar < ar2]"
      ],
      "metadata": {
        "colab": {
          "base_uri": "https://localhost:8080/"
        },
        "id": "ZSz8KrInAt0Z",
        "outputId": "006ef01f-3f99-4ac3-a708-43c765771f48"
      },
      "execution_count": null,
      "outputs": [
        {
          "output_type": "execute_result",
          "data": {
            "text/plain": [
              "array([ 6, 25, 50, 20, 18, 84, 11, 29, 14, 13,  9,  7, 61, 22,  1,  0,  8,\n",
              "       13, 30,  3, 70,  3, 24, 43, 26, 15, 64, 68, 25,  7, 26, 25, 22,  9,\n",
              "       67, 23, 27, 37, 38,  8, 32, 34, 10, 23, 15, 25, 62, 46, 32, 23,  3,\n",
              "       77,  6, 70,  2, 21])"
            ]
          },
          "metadata": {},
          "execution_count": 83
        }
      ]
    },
    {
      "cell_type": "code",
      "source": [
        "ar[ar + ar2 > 100]"
      ],
      "metadata": {
        "colab": {
          "base_uri": "https://localhost:8080/"
        },
        "id": "BPXyfWRzAweA",
        "outputId": "962dc611-8944-4e29-babd-ecad88f6a3a8"
      },
      "execution_count": null,
      "outputs": [
        {
          "output_type": "execute_result",
          "data": {
            "text/plain": [
              "array([76, 50, 84, 29, 68, 87, 87, 94, 96, 86,  9, 61, 60, 81, 88, 70, 24,\n",
              "       76, 80, 82, 64, 68, 98, 25, 67, 27, 37, 38, 34, 87, 92, 74, 62, 46,\n",
              "       32, 88, 55, 65, 77, 77, 70, 91])"
            ]
          },
          "metadata": {},
          "execution_count": 84
        }
      ]
    },
    {
      "cell_type": "markdown",
      "source": [
        "<table width=\"850\">\n",
        "<td bgcolor=\"#d5695d\"><font color=\"white\" size=\"6\"><b>\n",
        "4. Numpy Lab\n",
        "</b></font></td></table>\n"
      ],
      "metadata": {
        "id": "9AgwuripbqKQ"
      }
    },
    {
      "cell_type": "code",
      "source": [
        "import numpy as np"
      ],
      "metadata": {
        "id": "9wq0zb9tQYgB"
      },
      "execution_count": null,
      "outputs": []
    },
    {
      "cell_type": "code",
      "source": [
        "x1 = np.array([1, 2, 3, 4, 5])\n",
        "x1"
      ],
      "metadata": {
        "colab": {
          "base_uri": "https://localhost:8080/"
        },
        "id": "hTtKHyxkbttb",
        "outputId": "d45f2738-db45-4650-eac4-0f9ff7740fd7"
      },
      "execution_count": null,
      "outputs": [
        {
          "output_type": "execute_result",
          "data": {
            "text/plain": [
              "array([1, 2, 3, 4, 5])"
            ]
          },
          "metadata": {},
          "execution_count": 86
        }
      ]
    },
    {
      "cell_type": "code",
      "source": [
        "x2 = np.zeros(6)\n",
        "x2"
      ],
      "metadata": {
        "colab": {
          "base_uri": "https://localhost:8080/"
        },
        "id": "h-Z-MQtFbuZq",
        "outputId": "1c5142b0-607e-40d2-9569-d86bea0639c7"
      },
      "execution_count": null,
      "outputs": [
        {
          "output_type": "execute_result",
          "data": {
            "text/plain": [
              "array([0., 0., 0., 0., 0., 0.])"
            ]
          },
          "metadata": {},
          "execution_count": 87
        }
      ]
    },
    {
      "cell_type": "code",
      "source": [
        "x3 = np.ones(6)\n",
        "x3"
      ],
      "metadata": {
        "colab": {
          "base_uri": "https://localhost:8080/"
        },
        "id": "CLb_FVHObujV",
        "outputId": "d4116e66-b825-4599-f3b6-8774514d23b2"
      },
      "execution_count": null,
      "outputs": [
        {
          "output_type": "execute_result",
          "data": {
            "text/plain": [
              "array([1., 1., 1., 1., 1., 1.])"
            ]
          },
          "metadata": {},
          "execution_count": 88
        }
      ]
    },
    {
      "cell_type": "code",
      "source": [
        "x4 = np.arange(11)\n",
        "x4"
      ],
      "metadata": {
        "colab": {
          "base_uri": "https://localhost:8080/"
        },
        "id": "IR8TFML3buo7",
        "outputId": "197dc206-a8f5-4c39-8878-bd27c55b0cff"
      },
      "execution_count": null,
      "outputs": [
        {
          "output_type": "execute_result",
          "data": {
            "text/plain": [
              "array([ 0,  1,  2,  3,  4,  5,  6,  7,  8,  9, 10])"
            ]
          },
          "metadata": {},
          "execution_count": 89
        }
      ]
    },
    {
      "cell_type": "code",
      "source": [
        "x5 = np.zeros((2, 3))\n",
        "x5"
      ],
      "metadata": {
        "colab": {
          "base_uri": "https://localhost:8080/"
        },
        "id": "W6BvLFb9buuE",
        "outputId": "8627d4d7-db63-47e9-ecf3-1f0107222814"
      },
      "execution_count": null,
      "outputs": [
        {
          "output_type": "execute_result",
          "data": {
            "text/plain": [
              "array([[0., 0., 0.],\n",
              "       [0., 0., 0.]])"
            ]
          },
          "metadata": {},
          "execution_count": 90
        }
      ]
    },
    {
      "cell_type": "code",
      "source": [
        "x6 = np.ones((3, 2))\n",
        "x6"
      ],
      "metadata": {
        "colab": {
          "base_uri": "https://localhost:8080/"
        },
        "id": "_aksUT94bu1b",
        "outputId": "1114b7dc-bf60-4044-f2a7-7453ca30bf4f"
      },
      "execution_count": null,
      "outputs": [
        {
          "output_type": "execute_result",
          "data": {
            "text/plain": [
              "array([[1., 1.],\n",
              "       [1., 1.],\n",
              "       [1., 1.]])"
            ]
          },
          "metadata": {},
          "execution_count": 91
        }
      ]
    },
    {
      "cell_type": "code",
      "source": [
        "x7 = np.random.randint(0, 10, (3, 2))\n",
        "x7"
      ],
      "metadata": {
        "colab": {
          "base_uri": "https://localhost:8080/"
        },
        "id": "sEq469JjcApK",
        "outputId": "903bcf42-cd42-44a3-b03e-f894d4c566c0"
      },
      "execution_count": null,
      "outputs": [
        {
          "output_type": "execute_result",
          "data": {
            "text/plain": [
              "array([[5, 3],\n",
              "       [8, 8],\n",
              "       [0, 6]])"
            ]
          },
          "metadata": {},
          "execution_count": 92
        }
      ]
    },
    {
      "cell_type": "code",
      "source": [
        "x8 = np.random.random((10, 2))\n",
        "x8"
      ],
      "metadata": {
        "colab": {
          "base_uri": "https://localhost:8080/"
        },
        "id": "SFFGATGYcAwL",
        "outputId": "1594d6ff-63cd-4d15-89d0-f65c94c4a8d3"
      },
      "execution_count": null,
      "outputs": [
        {
          "output_type": "execute_result",
          "data": {
            "text/plain": [
              "array([[0.5409518 , 0.95943432],\n",
              "       [0.80396089, 0.03232307],\n",
              "       [0.70938725, 0.46500148],\n",
              "       [0.94754894, 0.22143273],\n",
              "       [0.26707202, 0.08147396],\n",
              "       [0.42861883, 0.10901876],\n",
              "       [0.63378676, 0.80296324],\n",
              "       [0.6968005 , 0.76621138],\n",
              "       [0.34245412, 0.84585148],\n",
              "       [0.42876877, 0.82400987]])"
            ]
          },
          "metadata": {},
          "execution_count": 94
        }
      ]
    },
    {
      "cell_type": "code",
      "source": [],
      "metadata": {
        "id": "it8PmtOfcA2L"
      },
      "execution_count": null,
      "outputs": []
    },
    {
      "cell_type": "code",
      "source": [],
      "metadata": {
        "id": "5dbi66fRbu7s"
      },
      "execution_count": null,
      "outputs": []
    }
  ]
}