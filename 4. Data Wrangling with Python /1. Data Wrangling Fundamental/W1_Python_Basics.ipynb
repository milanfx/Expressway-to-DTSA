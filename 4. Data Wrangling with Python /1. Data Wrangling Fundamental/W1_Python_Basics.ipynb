{
  "nbformat": 4,
  "nbformat_minor": 0,
  "metadata": {
    "colab": {
      "provenance": [],
      "machine_shape": "hm",
      "authorship_tag": "ABX9TyPs93us8mI8simydWqNtDt5",
      "include_colab_link": true
    },
    "kernelspec": {
      "name": "python3",
      "display_name": "Python 3"
    },
    "language_info": {
      "name": "python"
    }
  },
  "cells": [
    {
      "cell_type": "markdown",
      "metadata": {
        "id": "view-in-github",
        "colab_type": "text"
      },
      "source": [
        "<a href=\"https://colab.research.google.com/github/milanfx/Expressway-to-DTSA/blob/main/4.%20Data%20Wrangling%20with%20Python%20/1.%20Data%20Wrangling%20Fundamental/W1_Python_Basics.ipynb\" target=\"_parent\"><img src=\"https://colab.research.google.com/assets/colab-badge.svg\" alt=\"Open In Colab\"/></a>"
      ]
    },
    {
      "cell_type": "markdown",
      "source": [
        "<table width=\"850\">\n",
        "<td bgcolor=\"#ba2f2a\"><font color=\"white\" size=\"8\"><b>\n",
        "W1 Python Basics\n",
        "</b></font></td></table>"
      ],
      "metadata": {
        "id": "AaW2h3ZuwlvL"
      }
    },
    {
      "cell_type": "markdown",
      "source": [
        "<table width=\"850\">\n",
        "<td bgcolor=\"#d5695d\"><font color=\"white\" size=\"6\"><b>\n",
        "1. Python Basics\n",
        "</b></font></td></table>\n"
      ],
      "metadata": {
        "id": "Y6cWGMF_Ns2o"
      }
    },
    {
      "cell_type": "markdown",
      "source": [
        "<table width=\"850\">\n",
        "<td bgcolor=\"#f8f2e4\"><font color=\"black\" size=\"4\"><b>\n",
        "1.1 Simple Input and Output\n",
        "</b><br><br>\n",
        "Task: Print a message \"Welcome to Python Basics, [user's name]\" using print and input functions\n",
        "</font></td></table>"
      ],
      "metadata": {
        "id": "PbSvx5mQNs2q"
      }
    },
    {
      "cell_type": "code",
      "source": [
        "print('Welcome to Python Basics', input('Please enter your name '))"
      ],
      "metadata": {
        "colab": {
          "base_uri": "https://localhost:8080/"
        },
        "id": "docoIfnWRi5A",
        "outputId": "d0aec6e5-f14a-4194-899b-7d413b7f15a3"
      },
      "execution_count": null,
      "outputs": [
        {
          "output_type": "stream",
          "name": "stdout",
          "text": [
            "Please enter your name Milanfx\n",
            "Welcome to Python Basics Milanfx\n"
          ]
        }
      ]
    },
    {
      "cell_type": "markdown",
      "source": [
        "<table width=\"850\">\n",
        "<td bgcolor=\"#f8f2e4\"><font color=\"black\" size=\"4\"><b>\n",
        "1.2 Simple Variables\n",
        "</b><br><br>\n",
        "Task: Create variables representing and check their data types: <br>\n",
        "a cat (name \"Kat\") <br>\n",
        "a price (13.50) <br>\n",
        "a grade (95) <br>\n",
        "a flag (True) <br>\n",
        "an interest rate (5.75%)\n",
        "</font></td></table>"
      ],
      "metadata": {
        "id": "XOXCqYwEK5qs"
      }
    },
    {
      "cell_type": "code",
      "source": [
        "cat = 'Kat'\n",
        "price = 13.50\n",
        "grade = 95\n",
        "flag = True\n",
        "interest = 0.0575\n",
        "print(type(cat))\n",
        "print(type(price))\n",
        "print(type(grade))\n",
        "print(type(flag))\n",
        "print(type(interest))"
      ],
      "metadata": {
        "colab": {
          "base_uri": "https://localhost:8080/"
        },
        "id": "fZm7nTCTRmkb",
        "outputId": "b6c6ab99-132a-46d7-d26c-e497527d4c8c"
      },
      "execution_count": null,
      "outputs": [
        {
          "output_type": "stream",
          "name": "stdout",
          "text": [
            "<class 'str'>\n",
            "<class 'float'>\n",
            "<class 'int'>\n",
            "<class 'bool'>\n",
            "<class 'float'>\n"
          ]
        }
      ]
    },
    {
      "cell_type": "markdown",
      "source": [
        "<table width=\"850\">\n",
        "<td bgcolor=\"#f8f2e4\"><font color=\"black\" size=\"4\"><b>\n",
        "1.3 Assignment Operations\n",
        "</b><br><br>\n",
        "Task: Swap the value of variable x and y<br>\n",
        "Task: Assign variable z with int 5, then with float 5.0, then with string '5.0'\n",
        "</font></td></table>"
      ],
      "metadata": {
        "id": "cRuGpIi1K52I"
      }
    },
    {
      "cell_type": "code",
      "source": [
        "x = 3\n",
        "y = 5\n",
        "print(x, y)\n",
        "temp = x\n",
        "x = y\n",
        "y = temp\n",
        "print(x, y)"
      ],
      "metadata": {
        "colab": {
          "base_uri": "https://localhost:8080/"
        },
        "id": "nNIlSuzwSXzW",
        "outputId": "02cdd45b-4908-4ab7-e6e4-fd9f80c4803a"
      },
      "execution_count": null,
      "outputs": [
        {
          "output_type": "stream",
          "name": "stdout",
          "text": [
            "3 5\n",
            "5 3\n"
          ]
        }
      ]
    },
    {
      "cell_type": "code",
      "source": [
        "z = 5\n",
        "print(type(z))\n",
        "z = 5.0\n",
        "print(type(z))\n",
        "z = '5.0'\n",
        "print(type(z))"
      ],
      "metadata": {
        "colab": {
          "base_uri": "https://localhost:8080/"
        },
        "id": "74l5utCNSX63",
        "outputId": "025b0d88-3734-4224-ba4a-a93b6dd59fcf"
      },
      "execution_count": null,
      "outputs": [
        {
          "output_type": "stream",
          "name": "stdout",
          "text": [
            "<class 'int'>\n",
            "<class 'float'>\n",
            "<class 'str'>\n"
          ]
        }
      ]
    },
    {
      "cell_type": "markdown",
      "source": [
        "<table width=\"850\">\n",
        "<td bgcolor=\"#f8f2e4\"><font color=\"black\" size=\"4\"><b>\n",
        "1.4 Arithmatic Operations\n",
        "</b><br><br>\n",
        "Task: Ask the user to type in two positive int, and compute the result of (+, -, *, /, //, **, %)\n",
        "</font></td></table>"
      ],
      "metadata": {
        "id": "6ruM3Sr8ObXh"
      }
    },
    {
      "cell_type": "code",
      "source": [
        "while True:\n",
        "    try:\n",
        "        x = int(input('Enter First positive int: '))\n",
        "        if x > 0:\n",
        "            break\n",
        "        else:\n",
        "            print(\"Please enter a positive integer.\")\n",
        "    except ValueError:\n",
        "        print(\"Please enter a valid positive integer.\")\n",
        "while True:\n",
        "    try:\n",
        "        y = int(input('Enter Second positive int: '))\n",
        "        if y > 0:\n",
        "            break\n",
        "        else:\n",
        "            print(\"Please enter a positive integer.\")\n",
        "    except ValueError:\n",
        "        print(\"Please enter a valid positive integer.\")\n",
        "\n",
        "print(x, '+', y, '=', x + y)\n",
        "print(x, '-', y, '=', x - y)\n",
        "print(x, '*', y, '=', x * y)\n",
        "print(x, '/', y, '=', x / y)\n",
        "print(x, '//', y, '=', x // y)\n",
        "print(x, '%', y, '=', x % y)"
      ],
      "metadata": {
        "colab": {
          "base_uri": "https://localhost:8080/"
        },
        "id": "XXr6dZ7aS76m",
        "outputId": "8939fdb8-165c-4d50-e8d3-a4b371e3b7a9"
      },
      "execution_count": null,
      "outputs": [
        {
          "output_type": "stream",
          "name": "stdout",
          "text": [
            "Enter First positive int: 1\n",
            "Enter Second positive int: 2\n",
            "1 + 2 = 3\n",
            "1 - 2 = -1\n",
            "1 * 2 = 2\n",
            "1 / 2 = 0.5\n",
            "1 // 2 = 0\n",
            "1 % 2 = 1\n"
          ]
        }
      ]
    },
    {
      "cell_type": "markdown",
      "source": [
        "<table width=\"850\">\n",
        "<td bgcolor=\"#f8f2e4\"><font color=\"black\" size=\"4\"><b>\n",
        "1.5 Relational Operations\n",
        "</b><br><br>\n",
        "Task: Ask the user to type in two numbers, and compute the result of (<, <=, ==, >=, >, !=)\n",
        "</font></td></table>"
      ],
      "metadata": {
        "id": "ysArd8e8ObbF"
      }
    },
    {
      "cell_type": "code",
      "source": [
        "x = input('Enter First number:')\n",
        "y = input('Enter Second number:')\n",
        "print(x, '<', y, '=', x < y)\n",
        "print(x, '<=', y, '=', x <= y)\n",
        "print(x, '==', y, '=', x == y)\n",
        "print(x, '>=', y, '=', x >= y)\n",
        "print(x, '>', y, '=', x >= y)\n",
        "print(x, '!=', y, '=', x != y)"
      ],
      "metadata": {
        "colab": {
          "base_uri": "https://localhost:8080/"
        },
        "id": "z1zrcy0WUF17",
        "outputId": "fa1cae31-a1d0-4345-9037-57f50fbaa529"
      },
      "execution_count": null,
      "outputs": [
        {
          "output_type": "stream",
          "name": "stdout",
          "text": [
            "Enter First number:1.1\n",
            "Enter Second number:2.2\n",
            "1.1 < 2.2 = True\n",
            "1.1 <= 2.2 = True\n",
            "1.1 == 2.2 = False\n",
            "1.1 >= 2.2 = False\n",
            "1.1 > 2.2 = False\n",
            "1.1 != 2.2 = True\n"
          ]
        }
      ]
    },
    {
      "cell_type": "markdown",
      "source": [
        "<table width=\"850\">\n",
        "<td bgcolor=\"#f8f2e4\"><font color=\"black\" size=\"4\"><b>\n",
        "1.6 Logical Operations\n",
        "</b><br><br>\n",
        "Task: Let x be `True` and y be `False`. Compute and print the result of (and, or, not)\n",
        "</font></td></table>"
      ],
      "metadata": {
        "id": "OfnUwTChObdy"
      }
    },
    {
      "cell_type": "code",
      "source": [
        "x = True\n",
        "y = False\n",
        "print(x, 'and', y, '=', x and y)\n",
        "print(x, 'or', y, '=', x or y)\n",
        "print('not', x, '=', not x)\n",
        "print('not', y, '=', not y)"
      ],
      "metadata": {
        "colab": {
          "base_uri": "https://localhost:8080/"
        },
        "id": "8LIzprllUGl8",
        "outputId": "42099af1-a328-4e96-9dbb-ce211e1dc38a"
      },
      "execution_count": null,
      "outputs": [
        {
          "output_type": "stream",
          "name": "stdout",
          "text": [
            "True and False = False\n",
            "True or False = True\n",
            "not True = False\n",
            "not False = True\n"
          ]
        }
      ]
    },
    {
      "cell_type": "markdown",
      "source": [
        "<table width=\"850\">\n",
        "<td bgcolor=\"#f8f2e4\"><font color=\"black\" size=\"4\"><b>\n",
        "1.7 Branching (If)\n",
        "</b><br><br>\n",
        "Task: What day is today?\n",
        "</font></td></table>"
      ],
      "metadata": {
        "id": "4rZkdfPrObgI"
      }
    },
    {
      "cell_type": "code",
      "source": [
        "while True:\n",
        "    day = input('What day is today? 1 - 7: ')\n",
        "    if day in ['1', '2', '3', '4', '5', '6', '7']:\n",
        "        break\n",
        "    else:\n",
        "        print(\"Please enter a valid number between 1 and 7.\")\n",
        "day = int(day)\n",
        "if day == 1:\n",
        "    print('Monday')\n",
        "elif day == 2:\n",
        "    print('Tuesday')\n",
        "elif day == 3:\n",
        "    print('Wednesday')\n",
        "elif day == 4:\n",
        "    print('Thursday')\n",
        "elif day == 5:\n",
        "    print('Friday')\n",
        "elif day == 6:\n",
        "    print('Saturday')\n",
        "elif day == 7:\n",
        "    print('Sunday')"
      ],
      "metadata": {
        "colab": {
          "base_uri": "https://localhost:8080/"
        },
        "id": "oXSAWjuqUIz0",
        "outputId": "4b271aff-368e-4617-bfab-9ac893d288f6"
      },
      "execution_count": null,
      "outputs": [
        {
          "output_type": "stream",
          "name": "stdout",
          "text": [
            "What day is today? 1 - 7: 8\n",
            "Please enter a valid number between 1 and 7.\n",
            "What day is today? 1 - 7: 7\n",
            "Sunday\n"
          ]
        }
      ]
    },
    {
      "cell_type": "markdown",
      "source": [
        "<table width=\"850\">\n",
        "<td bgcolor=\"#f8f2e4\"><font color=\"black\" size=\"4\"><b>\n",
        "1.8 Repetition (For and While)\n",
        "</b><br><br>\n",
        "Task: Save money for retirement: <br>\n",
        "1.  Asks the user for a number representing a new positive deposit for the retirement fund. <br>\n",
        "2.  Print out the amount of the deposit as well as the balance for each transaction. <br>\n",
        "3.  When the balance is equal or more than 1 million, print a message \"You can retire now\" to the user. <br>\n",
        "4.  Print \"Congratualtions!\" and exit the program.\n",
        "</font></td></table>"
      ],
      "metadata": {
        "id": "N6w3UCPoObim"
      }
    },
    {
      "cell_type": "code",
      "source": [
        "balance = 0\n",
        "while balance < 1000000:\n",
        "  deposit = float(input('Please enter a positive amount of deposit:'))\n",
        "  balance += deposit\n",
        "  print('Deposited:', deposit, 'and you have balance of', balance)\n",
        "print('You can retire now!')\n",
        "print('Congratulations!')"
      ],
      "metadata": {
        "colab": {
          "base_uri": "https://localhost:8080/"
        },
        "id": "V1fCS7zpUJkb",
        "outputId": "179a0278-0c51-466d-e398-789ebfcd9971"
      },
      "execution_count": null,
      "outputs": [
        {
          "output_type": "stream",
          "name": "stdout",
          "text": [
            "Please enter a positive amount of deposit:990000\n",
            "Deposited: 990000.0 and you have balance of 990000.0\n",
            "Please enter a positive amount of deposit:10000\n",
            "Deposited: 10000.0 and you have balance of 1000000.0\n",
            "You can retire now!\n",
            "Congratulations!\n"
          ]
        }
      ]
    },
    {
      "cell_type": "markdown",
      "source": [
        "<table width=\"850\">\n",
        "<td bgcolor=\"#d5695d\"><font color=\"white\" size=\"6\"><b>\n",
        "2. Python Functions\n",
        "</b></font></td></table>\n"
      ],
      "metadata": {
        "id": "FFflhzteOvZn"
      }
    },
    {
      "cell_type": "markdown",
      "source": [
        "<table width=\"850\">\n",
        "<td bgcolor=\"#f8f2e4\"><font color=\"black\" size=\"4\"><b>\n",
        "2.1 Simple functions\n",
        "</b><br><br>\n",
        "Task1: Define a function sayhi() that: <br>\n",
        "1. Ask user for an int and save it to n <br>\n",
        "2. print 'Welcome to Python Functions' n times\n",
        "</font></td></table>"
      ],
      "metadata": {
        "id": "EKTrQQ0TObk6"
      }
    },
    {
      "cell_type": "code",
      "source": [
        "def sayhi():\n",
        "  n = int(input('Enter an int:'))\n",
        "  for i in range(n):\n",
        "    print('Welcome to Python Functions')"
      ],
      "metadata": {
        "id": "E7q9lCeWfyVB"
      },
      "execution_count": null,
      "outputs": []
    },
    {
      "cell_type": "code",
      "source": [
        "sayhi()"
      ],
      "metadata": {
        "colab": {
          "base_uri": "https://localhost:8080/"
        },
        "id": "_wz_EemIgMah",
        "outputId": "a68335ea-5228-4e3b-d5b3-fc61859f496e"
      },
      "execution_count": null,
      "outputs": [
        {
          "output_type": "stream",
          "name": "stdout",
          "text": [
            "Enter an int:5\n",
            "Welcome to Python Functions\n",
            "Welcome to Python Functions\n",
            "Welcome to Python Functions\n",
            "Welcome to Python Functions\n",
            "Welcome to Python Functions\n"
          ]
        }
      ]
    },
    {
      "cell_type": "markdown",
      "source": [
        "<table width=\"850\">\n",
        "<td bgcolor=\"#f8f2e4\"><font color=\"black\" size=\"4\"><b>\n",
        "2.2 Advanced functions\n",
        "</b><br><br>\n",
        "Task: Define a function sayhi(n, msg) that: <br>\n",
        "1. n is by default 1, if user doesn't pass an argument to the function <br>\n",
        "2. msg by default is 'Welcome to Python Functions', if user doesn't pass an argument <br>\n",
        "3. print msg n times\n",
        "</font></td></table>"
      ],
      "metadata": {
        "id": "7WYbjasOObnb"
      }
    },
    {
      "cell_type": "code",
      "source": [
        "def sayhi(n=3, msg='Hi'):\n",
        "  for i in range(n):\n",
        "    print(msg)"
      ],
      "metadata": {
        "id": "yiHeGq2Xgc0R"
      },
      "execution_count": null,
      "outputs": []
    },
    {
      "cell_type": "code",
      "source": [
        "sayhi(1, 'Hello')"
      ],
      "metadata": {
        "colab": {
          "base_uri": "https://localhost:8080/"
        },
        "id": "xZ9sgWSLg92x",
        "outputId": "56b63728-a5d3-4c7d-be53-41c3ecbf78b0"
      },
      "execution_count": null,
      "outputs": [
        {
          "output_type": "stream",
          "name": "stdout",
          "text": [
            "Hello\n"
          ]
        }
      ]
    },
    {
      "cell_type": "code",
      "source": [
        "sayhi(n=1)"
      ],
      "metadata": {
        "colab": {
          "base_uri": "https://localhost:8080/"
        },
        "id": "HYf72Hs0iT3e",
        "outputId": "3498dc46-3d2d-48b8-cbda-9a6a6d59caa9"
      },
      "execution_count": null,
      "outputs": [
        {
          "output_type": "stream",
          "name": "stdout",
          "text": [
            "Hi\n"
          ]
        }
      ]
    },
    {
      "cell_type": "code",
      "source": [
        "sayhi(msg='Hello')\n"
      ],
      "metadata": {
        "colab": {
          "base_uri": "https://localhost:8080/"
        },
        "id": "7MSJEK-3ihAN",
        "outputId": "2211c90b-95f6-483d-9e15-0e4091b2fb2a"
      },
      "execution_count": null,
      "outputs": [
        {
          "output_type": "stream",
          "name": "stdout",
          "text": [
            "Hello\n",
            "Hello\n",
            "Hello\n"
          ]
        }
      ]
    },
    {
      "cell_type": "markdown",
      "source": [
        "<table width=\"850\">\n",
        "<td bgcolor=\"#d5695d\"><font color=\"white\" size=\"6\"><b>\n",
        "3. Python Packages\n",
        "</b></font></td></table>\n"
      ],
      "metadata": {
        "id": "osW6mgVBlLhT"
      }
    },
    {
      "cell_type": "markdown",
      "source": [
        "<table width=\"850\">\n",
        "<td bgcolor=\"#f8f2e4\"><font color=\"black\" size=\"4\"><b>\n",
        "3.1 Random Package\n",
        "</b><br><br>\n",
        "Task: Generate random Numbers\n",
        "</font></td></table>"
      ],
      "metadata": {
        "id": "q8JkZpXFObp3"
      }
    },
    {
      "cell_type": "code",
      "source": [
        "# integer 0 ~ 10\n",
        "import random\n",
        "i = random.randint(0, 10)\n",
        "print(i)"
      ],
      "metadata": {
        "colab": {
          "base_uri": "https://localhost:8080/"
        },
        "id": "Qgcxa88BlxwH",
        "outputId": "38480815-6ea5-4524-8286-7ccf4215d4db"
      },
      "execution_count": null,
      "outputs": [
        {
          "output_type": "stream",
          "name": "stdout",
          "text": [
            "6\n"
          ]
        }
      ]
    },
    {
      "cell_type": "code",
      "source": [
        "# integer within a ~ b\n",
        "a = int(input('Please enter a: '))\n",
        "b = int(input('Please enter b: '))\n",
        "i = random.randint(min(a,b), max(a,b))\n",
        "print(i)"
      ],
      "metadata": {
        "colab": {
          "base_uri": "https://localhost:8080/"
        },
        "id": "N6kNfAGflzPo",
        "outputId": "a0dc90b0-7025-453d-dcae-7fdbbfd0a98a"
      },
      "execution_count": null,
      "outputs": [
        {
          "output_type": "stream",
          "name": "stdout",
          "text": [
            "Please enter a: 15\n",
            "Please enter b: 5\n",
            "12\n"
          ]
        }
      ]
    },
    {
      "cell_type": "code",
      "source": [
        "# float 0 ~ 10\n",
        "f = random.uniform(0, 10)\n",
        "print(f)"
      ],
      "metadata": {
        "colab": {
          "base_uri": "https://localhost:8080/"
        },
        "id": "a6QkGsXelzTW",
        "outputId": "bff499af-bf57-4282-802f-cf12fcb1a07e"
      },
      "execution_count": null,
      "outputs": [
        {
          "output_type": "stream",
          "name": "stdout",
          "text": [
            "7.111218307623856\n"
          ]
        }
      ]
    },
    {
      "cell_type": "code",
      "source": [
        "# float Normal Distribution\n",
        "f = random.gauss(0, 1)\n",
        "print(f)"
      ],
      "metadata": {
        "colab": {
          "base_uri": "https://localhost:8080/"
        },
        "id": "UWPvOhWelzX7",
        "outputId": "6539845c-48df-472f-b2ca-ebd0d1eec4fd"
      },
      "execution_count": null,
      "outputs": [
        {
          "output_type": "stream",
          "name": "stdout",
          "text": [
            "0.2761478043870908\n"
          ]
        }
      ]
    },
    {
      "cell_type": "code",
      "source": [
        "# int list\n",
        "l = []\n",
        "for i in range(5):\n",
        "  l.append(random.randint(0, 10))\n",
        "print(l)"
      ],
      "metadata": {
        "colab": {
          "base_uri": "https://localhost:8080/"
        },
        "id": "ZLJjcuFOoCNM",
        "outputId": "7335f577-63c8-4187-a182-92a15f4baf48"
      },
      "execution_count": null,
      "outputs": [
        {
          "output_type": "stream",
          "name": "stdout",
          "text": [
            "[3, 1, 1, 7, 5]\n"
          ]
        }
      ]
    },
    {
      "cell_type": "code",
      "source": [
        "# float list\n",
        "l = []\n",
        "for i in range(5):\n",
        "  l.append(random.uniform(0, 10))\n",
        "print(l)"
      ],
      "metadata": {
        "colab": {
          "base_uri": "https://localhost:8080/"
        },
        "id": "yS2uoM6HoCnU",
        "outputId": "4d209d36-6651-4e41-a8f7-79ef9b0f4840"
      },
      "execution_count": null,
      "outputs": [
        {
          "output_type": "stream",
          "name": "stdout",
          "text": [
            "[2.3697231280475983, 5.382184830643814, 8.543897530818242, 9.911599954764373, 0.551886504718685]\n"
          ]
        }
      ]
    },
    {
      "cell_type": "markdown",
      "source": [
        "<table width=\"850\">\n",
        "<td bgcolor=\"#f8f2e4\"><font color=\"black\" size=\"4\"><b>\n",
        "3.2 Math Package\n",
        "</b><br><br>\n",
        "Task: Transform different Numbers <br>\n",
        "</font></td></table>"
      ],
      "metadata": {
        "id": "dyjJuns0Obsg"
      }
    },
    {
      "cell_type": "code",
      "source": [
        "import math\n",
        "x = float(input('Enter a number: '))\n",
        "print('x is', x)\n",
        "print('ceiling is', math.ceil(x))\n",
        "print('floor is', math.floor(x))\n",
        "print('abs is', math.fabs(x))\n",
        "print('exp is', math.exp(x))\n",
        "print('log is', math.log(x))\n",
        "print('sqrt is', math.sqrt(x))"
      ],
      "metadata": {
        "colab": {
          "base_uri": "https://localhost:8080/"
        },
        "id": "gDe9rDgKlz8C",
        "outputId": "523a9919-4d2f-4f52-8fb2-891fb8c24b97"
      },
      "execution_count": null,
      "outputs": [
        {
          "output_type": "stream",
          "name": "stdout",
          "text": [
            "Enter a number: 4.1\n",
            "x is 4.1\n",
            "ceiling is 5\n",
            "floor is 4\n",
            "abs is 4.1\n",
            "exp is 60.34028759736195\n",
            "log is 1.410986973710262\n",
            "sqrt is 2.0248456731316584\n"
          ]
        }
      ]
    },
    {
      "cell_type": "code",
      "source": [
        "# factorial\n",
        "x = int(input('Enter a number: '))\n",
        "print('x is', x)\n",
        "print('x! is', math.factorial(x))"
      ],
      "metadata": {
        "colab": {
          "base_uri": "https://localhost:8080/"
        },
        "id": "YStlNhodlz_0",
        "outputId": "a6418110-50eb-431f-a963-3fc83d82e94b"
      },
      "execution_count": null,
      "outputs": [
        {
          "output_type": "stream",
          "name": "stdout",
          "text": [
            "Enter a number: 5\n",
            "x is 5\n",
            "x! is 120\n"
          ]
        }
      ]
    }
  ]
}